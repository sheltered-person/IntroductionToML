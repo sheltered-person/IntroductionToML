{
 "cells": [
  {
   "cell_type": "code",
   "execution_count": 1,
   "metadata": {},
   "outputs": [],
   "source": [
    "import numpy as np\n",
    "import tensorflow.keras as keras\n",
    "\n",
    "from keras.models import Sequential\n",
    "from keras.layers import Dense\n",
    "from keras.utils import np_utils\n",
    "from keras.datasets import mnist\n",
    "\n",
    "from tensorflow.keras.optimizers import SGD\n",
    "from tensorflow.keras.metrics import Precision\n",
    "\n",
    "from matplotlib import pyplot as plt"
   ]
  },
  {
   "cell_type": "code",
   "execution_count": 2,
   "metadata": {},
   "outputs": [
    {
     "name": "stdout",
     "output_type": "stream",
     "text": [
      "Downloading data from https://storage.googleapis.com/tensorflow/tf-keras-datasets/mnist.npz\n",
      "11493376/11490434 [==============================] - 2s 0us/step\n",
      "11501568/11490434 [==============================] - 2s 0us/step\n"
     ]
    }
   ],
   "source": [
    "np.random.seed(42)\n",
    "\n",
    "(X_train, y_train), (X_test, y_test) = mnist.load_data()"
   ]
  },
  {
   "cell_type": "code",
   "execution_count": 3,
   "metadata": {},
   "outputs": [
    {
     "data": {
      "text/plain": [
       "(10000, 28, 28)"
      ]
     },
     "execution_count": 3,
     "metadata": {},
     "output_type": "execute_result"
    }
   ],
   "source": [
    "X_test.shape"
   ]
  },
  {
   "cell_type": "code",
   "execution_count": 4,
   "metadata": {},
   "outputs": [
    {
     "data": {
      "image/png": "[encoded data removed]",
      "text/plain": [
       "<Figure size 432x288 with 1 Axes>"
      ]
     },
     "metadata": {
      "needs_background": "light"
     },
     "output_type": "display_data"
    },
    {
     "data": {
      "image/png": "[encoded data removed]",
      "text/plain": [
       "<Figure size 432x288 with 1 Axes>"
      ]
     },
     "metadata": {
      "needs_background": "light"
     },
     "output_type": "display_data"
    },
    {
     "data": {
      "image/png": "[encoded data removed]",
      "text/plain": [
       "<Figure size 432x288 with 1 Axes>"
      ]
     },
     "metadata": {
      "needs_background": "light"
     },
     "output_type": "display_data"
    }
   ],
   "source": [
    "for i in [10, 200, 40000]:\n",
    "    plt.imshow(X_train[i])\n",
    "    plt.show()"
   ]
  },
  {
   "cell_type": "code",
   "execution_count": 5,
   "metadata": {},
   "outputs": [
    {
     "data": {
      "text/plain": [
       "(1.0, 1.0)"
      ]
     },
     "execution_count": 5,
     "metadata": {},
     "output_type": "execute_result"
    }
   ],
   "source": [
    "X_train, X_test = X_train.reshape(60000, 784), X_test.reshape(10000, 784)\n",
    "X_train, X_test = X_train.astype('float32'), X_test.astype('float32')\n",
    "\n",
    "X_train /= 255\n",
    "X_test /= 255\n",
    "\n",
    "X_train.max(), X_test.max()"
   ]
  },
  {
   "cell_type": "code",
   "execution_count": 6,
   "metadata": {},
   "outputs": [
    {
     "data": {
      "text/plain": [
       "((60000, 10), (10000, 10))"
      ]
     },
     "execution_count": 6,
     "metadata": {},
     "output_type": "execute_result"
    }
   ],
   "source": [
    "y_train, y_test = np_utils.to_categorical(y_train, 10), np_utils.to_categorical(y_test, 10)\n",
    "y_train.shape, y_test.shape"
   ]
  },
  {
   "cell_type": "code",
   "execution_count": 7,
   "metadata": {},
   "outputs": [],
   "source": [
    "model = Sequential()\n",
    "model.add(Dense(800, input_dim=784, kernel_initializer='normal', activation='relu'))\n",
    "model.add(Dense(10, kernel_initializer='normal', activation='softmax'))"
   ]
  },
  {
   "cell_type": "code",
   "execution_count": 8,
   "metadata": {},
   "outputs": [
    {
     "name": "stdout",
     "output_type": "stream",
     "text": [
      "Model: \"sequential\"\n",
      "_________________________________________________________________\n",
      "Layer (type)                 Output Shape              Param #   \n",
      "=================================================================\n",
      "dense (Dense)                (None, 800)               628000    \n",
      "_________________________________________________________________\n",
      "dense_1 (Dense)              (None, 10)                8010      \n",
      "=================================================================\n",
      "Total params: 636,010\n",
      "Trainable params: 636,010\n",
      "Non-trainable params: 0\n",
      "_________________________________________________________________\n"
     ]
    }
   ],
   "source": [
    "model.summary()"
   ]
  },
  {
   "cell_type": "code",
   "execution_count": 9,
   "metadata": {},
   "outputs": [],
   "source": [
    "model.compile(\n",
    "    loss='categorical_crossentropy',\n",
    "    optimizer=SGD(learning_rate=0.01, momentum=0.9, nesterov=True),\n",
    "    metrics=['accuracy']\n",
    ")"
   ]
  },
  {
   "cell_type": "code",
   "execution_count": 10,
   "metadata": {},
   "outputs": [
    {
     "name": "stdout",
     "output_type": "stream",
     "text": [
      "Epoch 1/5\n",
      "300/300 [==============================] - 8s 23ms/step - loss: 0.5083 - accuracy: 0.8625 - val_loss: 0.2886 - val_accuracy: 0.9213\n",
      "Epoch 2/5\n",
      "300/300 [==============================] - 4s 14ms/step - loss: 0.2705 - accuracy: 0.9239 - val_loss: 0.2344 - val_accuracy: 0.9343\n",
      "Epoch 3/5\n",
      "300/300 [==============================] - 4s 14ms/step - loss: 0.2247 - accuracy: 0.9377 - val_loss: 0.2038 - val_accuracy: 0.9422\n",
      "Epoch 4/5\n",
      "300/300 [==============================] - 4s 14ms/step - loss: 0.1936 - accuracy: 0.9463 - val_loss: 0.1793 - val_accuracy: 0.9490\n",
      "Epoch 5/5\n",
      "300/300 [==============================] - 4s 14ms/step - loss: 0.1707 - accuracy: 0.9530 - val_loss: 0.1614 - val_accuracy: 0.9537\n"
     ]
    },
    {
     "data": {
      "text/plain": [
       "<keras.callbacks.History at 0x1dcad255a60>"
      ]
     },
     "execution_count": 10,
     "metadata": {},
     "output_type": "execute_result"
    }
   ],
   "source": [
    "model.fit(\n",
    "    X_train,\n",
    "    y_train,\n",
    "    batch_size=200,\n",
    "    epochs=5,\n",
    "    verbose=1,\n",
    "    validation_data=(X_test, y_test)\n",
    ")"
   ]
  },
  {
   "cell_type": "markdown",
   "metadata": {},
   "source": [
    "## Check"
   ]
  },
  {
   "cell_type": "code",
   "execution_count": 11,
   "metadata": {
    "scrolled": true
   },
   "outputs": [
    {
     "name": "stdout",
     "output_type": "stream",
     "text": [
      "[[3.8009759e-05 1.8566409e-07 2.4230192e-04 1.2856874e-03 1.0678873e-06\n",
      "  5.0188581e-05 8.0929636e-09 9.9826008e-01 6.5739919e-06 1.1592017e-04]]\n",
      "Digit 7\n"
     ]
    },
    {
     "data": {
      "image/png": "[encoded data removed]",
      "text/plain": [
       "<Figure size 432x288 with 1 Axes>"
      ]
     },
     "metadata": {
      "needs_background": "light"
     },
     "output_type": "display_data"
    },
    {
     "name": "stdout",
     "output_type": "stream",
     "text": [
      "[[1.1196514e-03 1.7710864e-04 9.8103517e-01 1.1101816e-02 2.2095273e-08\n",
      "  1.4708532e-03 3.4408453e-03 4.3170254e-09 1.6546138e-03 1.9220192e-08]]\n",
      "Digit 2\n"
     ]
    },
    {
     "data": {
      "image/png": "[encoded data removed]",
      "text/plain": [
       "<Figure size 432x288 with 1 Axes>"
      ]
     },
     "metadata": {
      "needs_background": "light"
     },
     "output_type": "display_data"
    },
    {
     "name": "stdout",
     "output_type": "stream",
     "text": [
      "[[2.9665762e-05 9.8032826e-01 7.5719906e-03 1.8125508e-03 6.8288605e-04\n",
      "  8.3032640e-04 9.7446423e-04 5.4334230e-03 2.0792009e-03 2.5728124e-04]]\n",
      "Digit 1\n"
     ]
    },
    {
     "data": {
      "image/png": "[encoded data removed]",
      "text/plain": [
       "<Figure size 432x288 with 1 Axes>"
      ]
     },
     "metadata": {
      "needs_background": "light"
     },
     "output_type": "display_data"
    },
    {
     "name": "stdout",
     "output_type": "stream",
     "text": [
      "[[9.9960059e-01 4.0424290e-08 1.9786561e-04 1.1441424e-05 5.0565117e-08\n",
      "  5.0795741e-05 6.7119348e-05 2.2778198e-05 8.3778805e-06 4.0988052e-05]]\n",
      "Digit 0\n"
     ]
    },
    {
     "data": {
      "image/png": "[encoded data removed]",
      "text/plain": [
       "<Figure size 432x288 with 1 Axes>"
      ]
     },
     "metadata": {
      "needs_background": "light"
     },
     "output_type": "display_data"
    },
    {
     "name": "stdout",
     "output_type": "stream",
     "text": [
      "[[2.6107169e-04 6.9268704e-06 1.0807832e-03 4.4837972e-05 9.5151114e-01\n",
      "  1.6945686e-04 8.0462580e-04 2.8766941e-03 6.3793274e-04 4.2606428e-02]]\n",
      "Digit 4\n"
     ]
    },
    {
     "data": {
      "image/png": "[encoded data removed]",
      "text/plain": [
       "<Figure size 432x288 with 1 Axes>"
      ]
     },
     "metadata": {
      "needs_background": "light"
     },
     "output_type": "display_data"
    },
    {
     "name": "stdout",
     "output_type": "stream",
     "text": [
      "[[4.4152152e-06 9.8895395e-01 1.3552919e-03 9.7324699e-04 1.7381062e-04\n",
      "  9.0706941e-05 3.6830166e-05 6.6253920e-03 1.3916923e-03 3.9476881e-04]]\n",
      "Digit 1\n"
     ]
    },
    {
     "data": {
      "image/png": "[encoded data removed]",
      "text/plain": [
       "<Figure size 432x288 with 1 Axes>"
      ]
     },
     "metadata": {
      "needs_background": "light"
     },
     "output_type": "display_data"
    },
    {
     "name": "stdout",
     "output_type": "stream",
     "text": [
      "[[8.13750285e-06 1.07724245e-05 1.91877571e-05 2.26820557e-04\n",
      "  9.70231414e-01 2.20323191e-03 7.60020339e-05 4.59392229e-03\n",
      "  1.54772839e-02 7.15338578e-03]]\n",
      "Digit 4\n"
     ]
    },
    {
     "data": {
      "image/png": "[encoded data removed]",
      "text/plain": [
       "<Figure size 432x288 with 1 Axes>"
      ]
     },
     "metadata": {
      "needs_background": "light"
     },
     "output_type": "display_data"
    },
    {
     "name": "stdout",
     "output_type": "stream",
     "text": [
      "[[3.6566125e-06 1.1633410e-03 2.7128214e-03 3.1484496e-03 7.8059318e-03\n",
      "  2.5924696e-03 2.0181337e-04 6.3378275e-03 4.3294281e-03 9.7170436e-01]]\n",
      "Digit 9\n"
     ]
    },
    {
     "data": {
      "image/png": "[encoded data removed]",
      "text/plain": [
       "<Figure size 432x288 with 1 Axes>"
      ]
     },
     "metadata": {
      "needs_background": "light"
     },
     "output_type": "display_data"
    },
    {
     "name": "stdout",
     "output_type": "stream",
     "text": [
      "[[3.0027493e-03 1.9855717e-05 9.2454990e-03 1.7548762e-05 1.0077374e-02\n",
      "  1.7756755e-02 9.5795053e-01 1.6267848e-06 1.7459089e-03 1.8221993e-04]]\n",
      "Digit 6\n"
     ]
    },
    {
     "data": {
      "image/png": "[encoded data removed]",
      "text/plain": [
       "<Figure size 432x288 with 1 Axes>"
      ]
     },
     "metadata": {
      "needs_background": "light"
     },
     "output_type": "display_data"
    },
    {
     "name": "stdout",
     "output_type": "stream",
     "text": [
      "[[2.94514084e-05 1.73450559e-07 1.25232245e-05 3.44455839e-05\n",
      "  3.19755785e-02 5.40699220e-05 3.66635845e-06 3.09944525e-02\n",
      "  1.78383628e-03 9.35111880e-01]]\n",
      "Digit 9\n"
     ]
    },
    {
     "data": {
      "image/png": "[encoded data removed]",
      "text/plain": [
       "<Figure size 432x288 with 1 Axes>"
      ]
     },
     "metadata": {
      "needs_background": "light"
     },
     "output_type": "display_data"
    },
    {
     "name": "stdout",
     "output_type": "stream",
     "text": [
      "[[9.9612600e-01 9.4062750e-07 1.0354599e-03 7.9814956e-05 6.1708340e-07\n",
      "  2.5474934e-03 6.7183246e-05 2.3963435e-06 1.2848654e-04 1.1673039e-05]]\n",
      "Digit 0\n"
     ]
    },
    {
     "data": {
      "image/png": "[encoded data removed]",
      "text/plain": [
       "<Figure size 432x288 with 1 Axes>"
      ]
     },
     "metadata": {
      "needs_background": "light"
     },
     "output_type": "display_data"
    }
   ],
   "source": [
    "for i in range(11):\n",
    "    prediction = model.predict(X_test[i:i+1])\n",
    "    print(prediction)\n",
    "    print('Digit', prediction.argmax())\n",
    "    plt.imshow(X_test[i].reshape(28,28))\n",
    "    plt.show()"
   ]
  },
  {
   "cell_type": "code",
   "execution_count": 131,
   "metadata": {},
   "outputs": [],
   "source": [
    "import pandas as pd\n",
    "from sklearn.preprocessing import MinMaxScaler\n",
    "from sklearn.model_selection import train_test_split\n",
    "from sklearn.metrics import classification_report"
   ]
  },
  {
   "cell_type": "code",
   "execution_count": 132,
   "metadata": {},
   "outputs": [
    {
     "data": {
      "text/html": [
       "<div>\n",
       "<style scoped>\n",
       "    .dataframe tbody tr th:only-of-type {\n",
       "        vertical-align: middle;\n",
       "    }\n",
       "\n",
       "    .dataframe tbody tr th {\n",
       "        vertical-align: top;\n",
       "    }\n",
       "\n",
       "    .dataframe thead th {\n",
       "        text-align: right;\n",
       "    }\n",
       "</style>\n",
       "<table border=\"1\" class=\"dataframe\">\n",
       "  <thead>\n",
       "    <tr style=\"text-align: right;\">\n",
       "      <th></th>\n",
       "      <th>PassengerId</th>\n",
       "      <th>Survived</th>\n",
       "      <th>Pclass</th>\n",
       "      <th>Name</th>\n",
       "      <th>Sex</th>\n",
       "      <th>Age</th>\n",
       "      <th>SibSp</th>\n",
       "      <th>Parch</th>\n",
       "      <th>Ticket</th>\n",
       "      <th>Fare</th>\n",
       "      <th>Cabin</th>\n",
       "      <th>Embarked</th>\n",
       "    </tr>\n",
       "  </thead>\n",
       "  <tbody>\n",
       "    <tr>\n",
       "      <th>0</th>\n",
       "      <td>1</td>\n",
       "      <td>0</td>\n",
       "      <td>3</td>\n",
       "      <td>Braund, Mr. Owen Harris</td>\n",
       "      <td>male</td>\n",
       "      <td>22.0</td>\n",
       "      <td>1</td>\n",
       "      <td>0</td>\n",
       "      <td>A/5 21171</td>\n",
       "      <td>7.2500</td>\n",
       "      <td>NaN</td>\n",
       "      <td>S</td>\n",
       "    </tr>\n",
       "    <tr>\n",
       "      <th>1</th>\n",
       "      <td>2</td>\n",
       "      <td>1</td>\n",
       "      <td>1</td>\n",
       "      <td>Cumings, Mrs. John Bradley (Florence Briggs Th...</td>\n",
       "      <td>female</td>\n",
       "      <td>38.0</td>\n",
       "      <td>1</td>\n",
       "      <td>0</td>\n",
       "      <td>PC 17599</td>\n",
       "      <td>71.2833</td>\n",
       "      <td>C85</td>\n",
       "      <td>C</td>\n",
       "    </tr>\n",
       "    <tr>\n",
       "      <th>2</th>\n",
       "      <td>3</td>\n",
       "      <td>1</td>\n",
       "      <td>3</td>\n",
       "      <td>Heikkinen, Miss. Laina</td>\n",
       "      <td>female</td>\n",
       "      <td>26.0</td>\n",
       "      <td>0</td>\n",
       "      <td>0</td>\n",
       "      <td>STON/O2. 3101282</td>\n",
       "      <td>7.9250</td>\n",
       "      <td>NaN</td>\n",
       "      <td>S</td>\n",
       "    </tr>\n",
       "    <tr>\n",
       "      <th>3</th>\n",
       "      <td>4</td>\n",
       "      <td>1</td>\n",
       "      <td>1</td>\n",
       "      <td>Futrelle, Mrs. Jacques Heath (Lily May Peel)</td>\n",
       "      <td>female</td>\n",
       "      <td>35.0</td>\n",
       "      <td>1</td>\n",
       "      <td>0</td>\n",
       "      <td>113803</td>\n",
       "      <td>53.1000</td>\n",
       "      <td>C123</td>\n",
       "      <td>S</td>\n",
       "    </tr>\n",
       "    <tr>\n",
       "      <th>4</th>\n",
       "      <td>5</td>\n",
       "      <td>0</td>\n",
       "      <td>3</td>\n",
       "      <td>Allen, Mr. William Henry</td>\n",
       "      <td>male</td>\n",
       "      <td>35.0</td>\n",
       "      <td>0</td>\n",
       "      <td>0</td>\n",
       "      <td>373450</td>\n",
       "      <td>8.0500</td>\n",
       "      <td>NaN</td>\n",
       "      <td>S</td>\n",
       "    </tr>\n",
       "    <tr>\n",
       "      <th>...</th>\n",
       "      <td>...</td>\n",
       "      <td>...</td>\n",
       "      <td>...</td>\n",
       "      <td>...</td>\n",
       "      <td>...</td>\n",
       "      <td>...</td>\n",
       "      <td>...</td>\n",
       "      <td>...</td>\n",
       "      <td>...</td>\n",
       "      <td>...</td>\n",
       "      <td>...</td>\n",
       "      <td>...</td>\n",
       "    </tr>\n",
       "    <tr>\n",
       "      <th>886</th>\n",
       "      <td>887</td>\n",
       "      <td>0</td>\n",
       "      <td>2</td>\n",
       "      <td>Montvila, Rev. Juozas</td>\n",
       "      <td>male</td>\n",
       "      <td>27.0</td>\n",
       "      <td>0</td>\n",
       "      <td>0</td>\n",
       "      <td>211536</td>\n",
       "      <td>13.0000</td>\n",
       "      <td>NaN</td>\n",
       "      <td>S</td>\n",
       "    </tr>\n",
       "    <tr>\n",
       "      <th>887</th>\n",
       "      <td>888</td>\n",
       "      <td>1</td>\n",
       "      <td>1</td>\n",
       "      <td>Graham, Miss. Margaret Edith</td>\n",
       "      <td>female</td>\n",
       "      <td>19.0</td>\n",
       "      <td>0</td>\n",
       "      <td>0</td>\n",
       "      <td>112053</td>\n",
       "      <td>30.0000</td>\n",
       "      <td>B42</td>\n",
       "      <td>S</td>\n",
       "    </tr>\n",
       "    <tr>\n",
       "      <th>888</th>\n",
       "      <td>889</td>\n",
       "      <td>0</td>\n",
       "      <td>3</td>\n",
       "      <td>Johnston, Miss. Catherine Helen \"Carrie\"</td>\n",
       "      <td>female</td>\n",
       "      <td>NaN</td>\n",
       "      <td>1</td>\n",
       "      <td>2</td>\n",
       "      <td>W./C. 6607</td>\n",
       "      <td>23.4500</td>\n",
       "      <td>NaN</td>\n",
       "      <td>S</td>\n",
       "    </tr>\n",
       "    <tr>\n",
       "      <th>889</th>\n",
       "      <td>890</td>\n",
       "      <td>1</td>\n",
       "      <td>1</td>\n",
       "      <td>Behr, Mr. Karl Howell</td>\n",
       "      <td>male</td>\n",
       "      <td>26.0</td>\n",
       "      <td>0</td>\n",
       "      <td>0</td>\n",
       "      <td>111369</td>\n",
       "      <td>30.0000</td>\n",
       "      <td>C148</td>\n",
       "      <td>C</td>\n",
       "    </tr>\n",
       "    <tr>\n",
       "      <th>890</th>\n",
       "      <td>891</td>\n",
       "      <td>0</td>\n",
       "      <td>3</td>\n",
       "      <td>Dooley, Mr. Patrick</td>\n",
       "      <td>male</td>\n",
       "      <td>32.0</td>\n",
       "      <td>0</td>\n",
       "      <td>0</td>\n",
       "      <td>370376</td>\n",
       "      <td>7.7500</td>\n",
       "      <td>NaN</td>\n",
       "      <td>Q</td>\n",
       "    </tr>\n",
       "  </tbody>\n",
       "</table>\n",
       "<p>891 rows × 12 columns</p>\n",
       "</div>"
      ],
      "text/plain": [
       "     PassengerId  Survived  Pclass  \\\n",
       "0              1         0       3   \n",
       "1              2         1       1   \n",
       "2              3         1       3   \n",
       "3              4         1       1   \n",
       "4              5         0       3   \n",
       "..           ...       ...     ...   \n",
       "886          887         0       2   \n",
       "887          888         1       1   \n",
       "888          889         0       3   \n",
       "889          890         1       1   \n",
       "890          891         0       3   \n",
       "\n",
       "                                                  Name     Sex   Age  SibSp  \\\n",
       "0                              Braund, Mr. Owen Harris    male  22.0      1   \n",
       "1    Cumings, Mrs. John Bradley (Florence Briggs Th...  female  38.0      1   \n",
       "2                               Heikkinen, Miss. Laina  female  26.0      0   \n",
       "3         Futrelle, Mrs. Jacques Heath (Lily May Peel)  female  35.0      1   \n",
       "4                             Allen, Mr. William Henry    male  35.0      0   \n",
       "..                                                 ...     ...   ...    ...   \n",
       "886                              Montvila, Rev. Juozas    male  27.0      0   \n",
       "887                       Graham, Miss. Margaret Edith  female  19.0      0   \n",
       "888           Johnston, Miss. Catherine Helen \"Carrie\"  female   NaN      1   \n",
       "889                              Behr, Mr. Karl Howell    male  26.0      0   \n",
       "890                                Dooley, Mr. Patrick    male  32.0      0   \n",
       "\n",
       "     Parch            Ticket     Fare Cabin Embarked  \n",
       "0        0         A/5 21171   7.2500   NaN        S  \n",
       "1        0          PC 17599  71.2833   C85        C  \n",
       "2        0  STON/O2. 3101282   7.9250   NaN        S  \n",
       "3        0            113803  53.1000  C123        S  \n",
       "4        0            373450   8.0500   NaN        S  \n",
       "..     ...               ...      ...   ...      ...  \n",
       "886      0            211536  13.0000   NaN        S  \n",
       "887      0            112053  30.0000   B42        S  \n",
       "888      2        W./C. 6607  23.4500   NaN        S  \n",
       "889      0            111369  30.0000  C148        C  \n",
       "890      0            370376   7.7500   NaN        Q  \n",
       "\n",
       "[891 rows x 12 columns]"
      ]
     },
     "execution_count": 132,
     "metadata": {},
     "output_type": "execute_result"
    }
   ],
   "source": [
    "titanic_data = pd.read_csv(r'D:\\dataset_titanic.csv')\n",
    "titanic_data"
   ]
  },
  {
   "cell_type": "code",
   "execution_count": 133,
   "metadata": {},
   "outputs": [],
   "source": [
    "titanic_data = titanic_data[['Survived', 'Pclass', 'Sex', 'Age']].dropna()\n",
    "titanic_data['Sex'] = titanic_data['Sex'].apply(lambda x: 1 if x == 'male' else 0)\n",
    "data_train, data_test = train_test_split(titanic_data, test_size=0.3, random_state=42)\n",
    "\n",
    "x_train, y_train = data_train[['Pclass', 'Sex', 'Age']], data_train[['Survived']]\n",
    "x_test, y_test = data_test[['Pclass', 'Sex', 'Age']], data_test[['Survived']]"
   ]
  },
  {
   "cell_type": "code",
   "execution_count": 134,
   "metadata": {},
   "outputs": [],
   "source": [
    "\n",
    "scaler = MinMaxScaler()\n",
    "x_train = scaler.fit_transform(x_train)\n",
    "x_test = scaler.transform(x_test)\n"
   ]
  },
  {
   "cell_type": "code",
   "execution_count": 135,
   "metadata": {},
   "outputs": [
    {
     "data": {
      "text/plain": [
       "array([[1.        , 1.        , 0.25627127],\n",
       "       [0.5       , 0.        , 0.05458213],\n",
       "       [1.        , 1.        , 0.35081306],\n",
       "       ...,\n",
       "       [0.        , 0.        , 0.50838271],\n",
       "       [1.        , 1.        , 0.40753813],\n",
       "       [1.        , 1.        , 0.40753813]])"
      ]
     },
     "execution_count": 135,
     "metadata": {},
     "output_type": "execute_result"
    }
   ],
   "source": [
    "x_train"
   ]
  },
  {
   "cell_type": "code",
   "execution_count": 136,
   "metadata": {},
   "outputs": [
    {
     "name": "stdout",
     "output_type": "stream",
     "text": [
      "Model: \"sequential_18\"\n",
      "_________________________________________________________________\n",
      "Layer (type)                 Output Shape              Param #   \n",
      "=================================================================\n",
      "dense_43 (Dense)             (None, 100)               400       \n",
      "_________________________________________________________________\n",
      "dense_44 (Dense)             (None, 1)                 101       \n",
      "=================================================================\n",
      "Total params: 501\n",
      "Trainable params: 501\n",
      "Non-trainable params: 0\n",
      "_________________________________________________________________\n"
     ]
    }
   ],
   "source": [
    "model_titanic = Sequential()\n",
    "model_titanic.add(Dense(100, input_dim=3, kernel_initializer='normal', activation='relu'))\n",
    "#model_titanic.add(Dense(800, kernel_initializer='normal', activation='relu'))\n",
    "model_titanic.add(Dense(1, kernel_initializer='normal', activation='sigmoid'))\n",
    "model_titanic.summary()"
   ]
  },
  {
   "cell_type": "code",
   "execution_count": 137,
   "metadata": {
    "scrolled": false
   },
   "outputs": [
    {
     "name": "stdout",
     "output_type": "stream",
     "text": [
      "Epoch 1/50\n",
      "16/16 [==============================] - 1s 12ms/step - loss: 0.6843 - accuracy: 0.5972 - precision_34: 0.0000e+00 - val_loss: 0.6751 - val_accuracy: 0.5860 - val_precision_34: 0.0000e+00\n",
      "Epoch 2/50\n",
      "16/16 [==============================] - 0s 3ms/step - loss: 0.6641 - accuracy: 0.5972 - precision_34: 0.0000e+00 - val_loss: 0.6592 - val_accuracy: 0.5860 - val_precision_34: 0.0000e+00\n",
      "Epoch 3/50\n",
      "16/16 [==============================] - 0s 2ms/step - loss: 0.6470 - accuracy: 0.5972 - precision_34: 0.0000e+00 - val_loss: 0.6473 - val_accuracy: 0.5860 - val_precision_34: 0.0000e+00\n",
      "Epoch 4/50\n",
      "16/16 [==============================] - 0s 2ms/step - loss: 0.6335 - accuracy: 0.5972 - precision_34: 0.0000e+00 - val_loss: 0.6356 - val_accuracy: 0.5860 - val_precision_34: 0.0000e+00\n",
      "Epoch 5/50\n",
      "16/16 [==============================] - 0s 2ms/step - loss: 0.6189 - accuracy: 0.5972 - precision_34: 0.0000e+00 - val_loss: 0.6223 - val_accuracy: 0.5860 - val_precision_34: 0.0000e+00\n",
      "Epoch 6/50\n",
      "16/16 [==============================] - 0s 2ms/step - loss: 0.6027 - accuracy: 0.5972 - precision_34: 0.0000e+00 - val_loss: 0.6079 - val_accuracy: 0.5860 - val_precision_34: 0.0000e+00\n",
      "Epoch 7/50\n",
      "16/16 [==============================] - 0s 2ms/step - loss: 0.5853 - accuracy: 0.6513 - precision_34: 0.9655 - val_loss: 0.5931 - val_accuracy: 0.6837 - val_precision_34: 0.9565\n",
      "Epoch 8/50\n",
      "16/16 [==============================] - 0s 2ms/step - loss: 0.5691 - accuracy: 0.7134 - precision_34: 0.9677 - val_loss: 0.5790 - val_accuracy: 0.6977 - val_precision_34: 0.9615\n",
      "Epoch 9/50\n",
      "16/16 [==============================] - 0s 2ms/step - loss: 0.5534 - accuracy: 0.7555 - precision_34: 0.9341 - val_loss: 0.5665 - val_accuracy: 0.7814 - val_precision_34: 0.9375\n",
      "Epoch 10/50\n",
      "16/16 [==============================] - 0s 2ms/step - loss: 0.5391 - accuracy: 0.7956 - precision_34: 0.9459 - val_loss: 0.5561 - val_accuracy: 0.7814 - val_precision_34: 0.9375\n",
      "Epoch 11/50\n",
      "16/16 [==============================] - 0s 2ms/step - loss: 0.5267 - accuracy: 0.7956 - precision_34: 0.9459 - val_loss: 0.5469 - val_accuracy: 0.7814 - val_precision_34: 0.9375\n",
      "Epoch 12/50\n",
      "16/16 [==============================] - 0s 2ms/step - loss: 0.5155 - accuracy: 0.8016 - precision_34: 0.8696 - val_loss: 0.5384 - val_accuracy: 0.7628 - val_precision_34: 0.7375\n",
      "Epoch 13/50\n",
      "16/16 [==============================] - 0s 2ms/step - loss: 0.5058 - accuracy: 0.7916 - precision_34: 0.7740 - val_loss: 0.5317 - val_accuracy: 0.7535 - val_precision_34: 0.7195\n",
      "Epoch 14/50\n",
      "16/16 [==============================] - 0s 2ms/step - loss: 0.4988 - accuracy: 0.7916 - precision_34: 0.7709 - val_loss: 0.5254 - val_accuracy: 0.7535 - val_precision_34: 0.7195\n",
      "Epoch 15/50\n",
      "16/16 [==============================] - 0s 2ms/step - loss: 0.4913 - accuracy: 0.7916 - precision_34: 0.7709 - val_loss: 0.5218 - val_accuracy: 0.7535 - val_precision_34: 0.7195\n",
      "Epoch 16/50\n",
      "16/16 [==============================] - 0s 2ms/step - loss: 0.4857 - accuracy: 0.7916 - precision_34: 0.7709 - val_loss: 0.5177 - val_accuracy: 0.7535 - val_precision_34: 0.7195\n",
      "Epoch 17/50\n",
      "16/16 [==============================] - 0s 2ms/step - loss: 0.4809 - accuracy: 0.7916 - precision_34: 0.7709 - val_loss: 0.5140 - val_accuracy: 0.7535 - val_precision_34: 0.7195\n",
      "Epoch 18/50\n",
      "16/16 [==============================] - 0s 2ms/step - loss: 0.4768 - accuracy: 0.7916 - precision_34: 0.7709 - val_loss: 0.5122 - val_accuracy: 0.7535 - val_precision_34: 0.7195\n",
      "Epoch 19/50\n",
      "16/16 [==============================] - 0s 2ms/step - loss: 0.4731 - accuracy: 0.7916 - precision_34: 0.7709 - val_loss: 0.5092 - val_accuracy: 0.7535 - val_precision_34: 0.7195\n",
      "Epoch 20/50\n",
      "16/16 [==============================] - 0s 2ms/step - loss: 0.4717 - accuracy: 0.7916 - precision_34: 0.7709 - val_loss: 0.5066 - val_accuracy: 0.7535 - val_precision_34: 0.7195\n",
      "Epoch 21/50\n",
      "16/16 [==============================] - 0s 2ms/step - loss: 0.4667 - accuracy: 0.7916 - precision_34: 0.7709 - val_loss: 0.5057 - val_accuracy: 0.7535 - val_precision_34: 0.7195\n",
      "Epoch 22/50\n",
      "16/16 [==============================] - 0s 2ms/step - loss: 0.4657 - accuracy: 0.7916 - precision_34: 0.7709 - val_loss: 0.5039 - val_accuracy: 0.7535 - val_precision_34: 0.7195\n",
      "Epoch 23/50\n",
      "16/16 [==============================] - 0s 2ms/step - loss: 0.4630 - accuracy: 0.7916 - precision_34: 0.7709 - val_loss: 0.5016 - val_accuracy: 0.7535 - val_precision_34: 0.7195\n",
      "Epoch 24/50\n",
      "16/16 [==============================] - 0s 2ms/step - loss: 0.4609 - accuracy: 0.7916 - precision_34: 0.7709 - val_loss: 0.5008 - val_accuracy: 0.7535 - val_precision_34: 0.7195\n",
      "Epoch 25/50\n",
      "16/16 [==============================] - 0s 2ms/step - loss: 0.4581 - accuracy: 0.7916 - precision_34: 0.7709 - val_loss: 0.4982 - val_accuracy: 0.7535 - val_precision_34: 0.7195\n",
      "Epoch 26/50\n",
      "16/16 [==============================] - 0s 3ms/step - loss: 0.4570 - accuracy: 0.7916 - precision_34: 0.7709 - val_loss: 0.4973 - val_accuracy: 0.7535 - val_precision_34: 0.7195\n",
      "Epoch 27/50\n",
      "16/16 [==============================] - 0s 2ms/step - loss: 0.4554 - accuracy: 0.7916 - precision_34: 0.7709 - val_loss: 0.4956 - val_accuracy: 0.7535 - val_precision_34: 0.7195\n",
      "Epoch 28/50\n",
      "16/16 [==============================] - 0s 2ms/step - loss: 0.4541 - accuracy: 0.7916 - precision_34: 0.7709 - val_loss: 0.4955 - val_accuracy: 0.7535 - val_precision_34: 0.7195\n",
      "Epoch 29/50\n",
      "16/16 [==============================] - 0s 3ms/step - loss: 0.4525 - accuracy: 0.7916 - precision_34: 0.7709 - val_loss: 0.4944 - val_accuracy: 0.7535 - val_precision_34: 0.7195\n",
      "Epoch 30/50\n",
      "16/16 [==============================] - 0s 2ms/step - loss: 0.4511 - accuracy: 0.7916 - precision_34: 0.7709 - val_loss: 0.4933 - val_accuracy: 0.7535 - val_precision_34: 0.7195\n",
      "Epoch 31/50\n",
      "16/16 [==============================] - 0s 2ms/step - loss: 0.4505 - accuracy: 0.7916 - precision_34: 0.7709 - val_loss: 0.4934 - val_accuracy: 0.7535 - val_precision_34: 0.7195\n",
      "Epoch 32/50\n",
      "16/16 [==============================] - 0s 2ms/step - loss: 0.4492 - accuracy: 0.7916 - precision_34: 0.7709 - val_loss: 0.4925 - val_accuracy: 0.7535 - val_precision_34: 0.7195\n",
      "Epoch 33/50\n",
      "16/16 [==============================] - 0s 3ms/step - loss: 0.4481 - accuracy: 0.7916 - precision_34: 0.7709 - val_loss: 0.4921 - val_accuracy: 0.7535 - val_precision_34: 0.7195\n",
      "Epoch 34/50\n",
      "16/16 [==============================] - 0s 2ms/step - loss: 0.4470 - accuracy: 0.7896 - precision_34: 0.7697 - val_loss: 0.4920 - val_accuracy: 0.7535 - val_precision_34: 0.7195\n",
      "Epoch 35/50\n",
      "16/16 [==============================] - 0s 3ms/step - loss: 0.4461 - accuracy: 0.7896 - precision_34: 0.7697 - val_loss: 0.4900 - val_accuracy: 0.7581 - val_precision_34: 0.7229\n",
      "Epoch 36/50\n",
      "16/16 [==============================] - 0s 2ms/step - loss: 0.4449 - accuracy: 0.7916 - precision_34: 0.7709 - val_loss: 0.4898 - val_accuracy: 0.7581 - val_precision_34: 0.7229\n",
      "Epoch 37/50\n",
      "16/16 [==============================] - 0s 2ms/step - loss: 0.4443 - accuracy: 0.7916 - precision_34: 0.7709 - val_loss: 0.4896 - val_accuracy: 0.7581 - val_precision_34: 0.7229\n",
      "Epoch 38/50\n",
      "16/16 [==============================] - 0s 2ms/step - loss: 0.4439 - accuracy: 0.7936 - precision_34: 0.7753 - val_loss: 0.4882 - val_accuracy: 0.7628 - val_precision_34: 0.7262\n",
      "Epoch 39/50\n",
      "16/16 [==============================] - ETA: 0s - loss: 0.3644 - accuracy: 0.8438 - precision_34: 0.833 - 0s 2ms/step - loss: 0.4446 - accuracy: 0.7996 - precision_34: 0.7886 - val_loss: 0.4894 - val_accuracy: 0.7628 - val_precision_34: 0.7317\n",
      "Epoch 40/50\n",
      "16/16 [==============================] - 0s 2ms/step - loss: 0.4411 - accuracy: 0.7976 - precision_34: 0.7841 - val_loss: 0.4867 - val_accuracy: 0.7628 - val_precision_34: 0.7262\n",
      "Epoch 41/50\n",
      "16/16 [==============================] - 0s 2ms/step - loss: 0.4418 - accuracy: 0.7916 - precision_34: 0.7709 - val_loss: 0.4864 - val_accuracy: 0.7674 - val_precision_34: 0.7349\n",
      "Epoch 42/50\n",
      "16/16 [==============================] - 0s 2ms/step - loss: 0.4401 - accuracy: 0.7996 - precision_34: 0.7886 - val_loss: 0.4871 - val_accuracy: 0.7674 - val_precision_34: 0.7349\n",
      "Epoch 43/50\n",
      "16/16 [==============================] - 0s 2ms/step - loss: 0.4409 - accuracy: 0.7956 - precision_34: 0.7765 - val_loss: 0.4862 - val_accuracy: 0.7674 - val_precision_34: 0.7349\n",
      "Epoch 44/50\n",
      "16/16 [==============================] - 0s 2ms/step - loss: 0.4388 - accuracy: 0.8036 - precision_34: 0.7977 - val_loss: 0.4867 - val_accuracy: 0.7674 - val_precision_34: 0.7349\n",
      "Epoch 45/50\n",
      "16/16 [==============================] - 0s 2ms/step - loss: 0.4385 - accuracy: 0.8056 - precision_34: 0.8023 - val_loss: 0.4854 - val_accuracy: 0.7674 - val_precision_34: 0.7349\n",
      "Epoch 46/50\n",
      "16/16 [==============================] - 0s 2ms/step - loss: 0.4374 - accuracy: 0.8016 - precision_34: 0.7898 - val_loss: 0.4856 - val_accuracy: 0.7674 - val_precision_34: 0.7349\n",
      "Epoch 47/50\n",
      "16/16 [==============================] - 0s 2ms/step - loss: 0.4368 - accuracy: 0.8036 - precision_34: 0.7943 - val_loss: 0.4854 - val_accuracy: 0.7674 - val_precision_34: 0.7349\n",
      "Epoch 48/50\n",
      "16/16 [==============================] - 0s 2ms/step - loss: 0.4374 - accuracy: 0.7916 - precision_34: 0.7680 - val_loss: 0.4846 - val_accuracy: 0.7767 - val_precision_34: 0.7531\n",
      "Epoch 49/50\n",
      "16/16 [==============================] - 0s 2ms/step - loss: 0.4359 - accuracy: 0.8036 - precision_34: 0.7943 - val_loss: 0.4846 - val_accuracy: 0.7767 - val_precision_34: 0.7531\n",
      "Epoch 50/50\n",
      "16/16 [==============================] - 0s 2ms/step - loss: 0.4355 - accuracy: 0.8056 - precision_34: 0.8023 - val_loss: 0.4841 - val_accuracy: 0.7767 - val_precision_34: 0.7531\n"
     ]
    },
    {
     "data": {
      "text/plain": [
       "<keras.callbacks.History at 0x251a20d4bb0>"
      ]
     },
     "execution_count": 137,
     "metadata": {},
     "output_type": "execute_result"
    }
   ],
   "source": [
    "model_titanic.compile(\n",
    "    loss='binary_crossentropy',\n",
    "    optimizer=SGD(learning_rate=0.01, momentum=0.9, nesterov=True),\n",
    "    metrics=['accuracy', Precision()]\n",
    ")\n",
    "\n",
    "model_titanic.fit(\n",
    "    x_train,\n",
    "    y_train,\n",
    "    #batch_size=100,\n",
    "    epochs=50,\n",
    "    verbose=1,\n",
    "    validation_data=(x_test, y_test)\n",
    ")"
   ]
  },
  {
   "cell_type": "code",
   "execution_count": 138,
   "metadata": {},
   "outputs": [
    {
     "name": "stdout",
     "output_type": "stream",
     "text": [
      "              precision    recall  f1-score   support\n",
      "\n",
      "           0       0.79      0.84      0.82       126\n",
      "           1       0.75      0.69      0.72        89\n",
      "\n",
      "    accuracy                           0.78       215\n",
      "   macro avg       0.77      0.76      0.77       215\n",
      "weighted avg       0.78      0.78      0.77       215\n",
      "\n"
     ]
    }
   ],
   "source": [
    "predictions = model_titanic.predict(x_test)\n",
    "predictions[predictions >= 0.5] = 1\n",
    "predictions[predictions < 1] = 0\n",
    "\n",
    "print(classification_report(y_test, predictions))"
   ]
  }
 ],
 "metadata": {
  "kernelspec": {
   "display_name": "Python 3",
   "language": "python",
   "name": "python3"
  },
  "language_info": {
   "codemirror_mode": {
    "name": "ipython",
    "version": 3
   },
   "file_extension": ".py",
   "mimetype": "text/x-python",
   "name": "python",
   "nbconvert_exporter": "python",
   "pygments_lexer": "ipython3",
   "version": "3.8.3"
  }
 },
 "nbformat": 4,
 "nbformat_minor": 5
}

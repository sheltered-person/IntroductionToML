{
 "cells": [
  {
   "cell_type": "code",
   "execution_count": 85,
   "metadata": {},
   "outputs": [],
   "source": [
    "import numpy as np\n",
    "import tensorflow.keras as keras\n",
    "\n",
    "from keras.models import Sequential\n",
    "from keras.layers import Dense, Conv2D, BatchNormalization, MaxPooling2D, Flatten, Input, AveragePooling2D\n",
    "from keras.utils import np_utils\n",
    "from keras.datasets import mnist, cifar10\n",
    "\n",
    "from tensorflow.keras.optimizers import SGD\n",
    "from tensorflow.keras.metrics import Precision\n",
    "\n",
    "from matplotlib import pyplot as plt"
   ]
  },
  {
   "cell_type": "code",
   "execution_count": 67,
   "metadata": {},
   "outputs": [],
   "source": [
    "np.random.seed(42)\n",
    "\n",
    "(X_train, y_train), (X_test, y_test) = mnist.load_data()"
   ]
  },
  {
   "cell_type": "code",
   "execution_count": 68,
   "metadata": {},
   "outputs": [
    {
     "data": {
      "text/plain": [
       "(10000, 28, 28)"
      ]
     },
     "execution_count": 68,
     "metadata": {},
     "output_type": "execute_result"
    }
   ],
   "source": [
    "X_test.shape"
   ]
  },
  {
   "cell_type": "code",
   "execution_count": 69,
   "metadata": {},
   "outputs": [
    {
     "data": {
      "image/png": "[encoded data removed]",
      "text/plain": [
       "<Figure size 432x288 with 1 Axes>"
      ]
     },
     "metadata": {
      "needs_background": "light"
     },
     "output_type": "display_data"
    },
    {
     "data": {
      "image/png": "[encoded data removed]",
      "text/plain": [
       "<Figure size 432x288 with 1 Axes>"
      ]
     },
     "metadata": {
      "needs_background": "light"
     },
     "output_type": "display_data"
    },
    {
     "data": {
      "image/png": "[encoded data removed]",
      "text/plain": [
       "<Figure size 432x288 with 1 Axes>"
      ]
     },
     "metadata": {
      "needs_background": "light"
     },
     "output_type": "display_data"
    }
   ],
   "source": [
    "for i in [10, 200, 40000]:\n",
    "    plt.imshow(X_train[i])\n",
    "    plt.show()"
   ]
  },
  {
   "cell_type": "code",
   "execution_count": 70,
   "metadata": {},
   "outputs": [
    {
     "name": "stdout",
     "output_type": "stream",
     "text": [
      "(60000, 784) (60000, 28, 28, 1)\n"
     ]
    }
   ],
   "source": [
    "X_train, X_test = X_train.astype('float32'), X_test.astype('float32')\n",
    "X_train /= 255\n",
    "X_test /= 255\n",
    "\n",
    "X_train_fcn, X_test_fcn = X_train.reshape(60000, 784), X_test.reshape(10000, 784)\n",
    "X_train_cn, X_test_cn = np.expand_dims(X_train, axis=-1), np.expand_dims(X_test, axis=-1)\n",
    "\n",
    "\n",
    "print(X_train_fcn.shape, X_train_cn.shape)"
   ]
  },
  {
   "cell_type": "code",
   "execution_count": 71,
   "metadata": {},
   "outputs": [
    {
     "data": {
      "text/plain": [
       "((60000, 10), (10000, 10))"
      ]
     },
     "execution_count": 71,
     "metadata": {},
     "output_type": "execute_result"
    }
   ],
   "source": [
    "y_train, y_test = np_utils.to_categorical(y_train, 10), np_utils.to_categorical(y_test, 10)\n",
    "y_train.shape, y_test.shape"
   ]
  },
  {
   "cell_type": "code",
   "execution_count": 72,
   "metadata": {},
   "outputs": [],
   "source": [
    "model = Sequential()\n",
    "model.add(Dense(300, input_dim=784, kernel_initializer='normal', activation='relu'))\n",
    "model.add(BatchNormalization())\n",
    "model.add(Dense(10, kernel_initializer='normal', activation='softmax'))"
   ]
  },
  {
   "cell_type": "code",
   "execution_count": 73,
   "metadata": {},
   "outputs": [
    {
     "name": "stdout",
     "output_type": "stream",
     "text": [
      "Model: \"sequential_8\"\n",
      "_________________________________________________________________\n",
      "Layer (type)                 Output Shape              Param #   \n",
      "=================================================================\n",
      "dense_14 (Dense)             (None, 300)               235500    \n",
      "_________________________________________________________________\n",
      "batch_normalization_3 (Batch (None, 300)               1200      \n",
      "_________________________________________________________________\n",
      "dense_15 (Dense)             (None, 10)                3010      \n",
      "=================================================================\n",
      "Total params: 239,710\n",
      "Trainable params: 239,110\n",
      "Non-trainable params: 600\n",
      "_________________________________________________________________\n"
     ]
    }
   ],
   "source": [
    "model.summary()"
   ]
  },
  {
   "cell_type": "code",
   "execution_count": 74,
   "metadata": {},
   "outputs": [],
   "source": [
    "model.compile(\n",
    "    loss='categorical_crossentropy',\n",
    "    optimizer=SGD(learning_rate=0.01, momentum=0.9, nesterov=True),\n",
    "    metrics=['accuracy']\n",
    ")"
   ]
  },
  {
   "cell_type": "code",
   "execution_count": 75,
   "metadata": {},
   "outputs": [
    {
     "name": "stdout",
     "output_type": "stream",
     "text": [
      "Epoch 1/30\n",
      "300/300 [==============================] - 2s 4ms/step - loss: 0.3152 - accuracy: 0.9061 - val_loss: 0.2368 - val_accuracy: 0.9485\n",
      "Epoch 2/30\n",
      "300/300 [==============================] - 1s 5ms/step - loss: 0.1364 - accuracy: 0.9614 - val_loss: 0.1172 - val_accuracy: 0.9668\n",
      "Epoch 3/30\n",
      "300/300 [==============================] - 2s 5ms/step - loss: 0.0967 - accuracy: 0.9727 - val_loss: 0.0951 - val_accuracy: 0.9726\n",
      "Epoch 4/30\n",
      "300/300 [==============================] - 1s 4ms/step - loss: 0.0750 - accuracy: 0.9792 - val_loss: 0.0840 - val_accuracy: 0.9750\n",
      "Epoch 5/30\n",
      "300/300 [==============================] - 1s 4ms/step - loss: 0.0596 - accuracy: 0.9837 - val_loss: 0.0782 - val_accuracy: 0.9760\n",
      "Epoch 6/30\n",
      "300/300 [==============================] - 1s 4ms/step - loss: 0.0484 - accuracy: 0.9878 - val_loss: 0.0753 - val_accuracy: 0.9774\n",
      "Epoch 7/30\n",
      "300/300 [==============================] - 1s 4ms/step - loss: 0.0402 - accuracy: 0.9900 - val_loss: 0.0725 - val_accuracy: 0.9790\n",
      "Epoch 8/30\n",
      "300/300 [==============================] - 1s 4ms/step - loss: 0.0331 - accuracy: 0.9923 - val_loss: 0.0704 - val_accuracy: 0.9783\n",
      "Epoch 9/30\n",
      "300/300 [==============================] - 1s 4ms/step - loss: 0.0277 - accuracy: 0.9941 - val_loss: 0.0694 - val_accuracy: 0.9800\n",
      "Epoch 10/30\n",
      "300/300 [==============================] - 1s 4ms/step - loss: 0.0234 - accuracy: 0.9956 - val_loss: 0.0681 - val_accuracy: 0.9784\n",
      "Epoch 11/30\n",
      "300/300 [==============================] - 1s 4ms/step - loss: 0.0200 - accuracy: 0.9966 - val_loss: 0.0674 - val_accuracy: 0.9796\n",
      "Epoch 12/30\n",
      "300/300 [==============================] - 1s 4ms/step - loss: 0.0168 - accuracy: 0.9973 - val_loss: 0.0673 - val_accuracy: 0.9803\n",
      "Epoch 13/30\n",
      "300/300 [==============================] - 1s 4ms/step - loss: 0.0151 - accuracy: 0.9979 - val_loss: 0.0675 - val_accuracy: 0.9800\n",
      "Epoch 14/30\n",
      "300/300 [==============================] - 1s 4ms/step - loss: 0.0128 - accuracy: 0.9985 - val_loss: 0.0666 - val_accuracy: 0.9806\n",
      "Epoch 15/30\n",
      "300/300 [==============================] - 1s 4ms/step - loss: 0.0109 - accuracy: 0.9990 - val_loss: 0.0654 - val_accuracy: 0.9801\n",
      "Epoch 16/30\n",
      "300/300 [==============================] - 1s 4ms/step - loss: 0.0098 - accuracy: 0.9992 - val_loss: 0.0665 - val_accuracy: 0.9811\n",
      "Epoch 17/30\n",
      "300/300 [==============================] - 1s 4ms/step - loss: 0.0088 - accuracy: 0.9995 - val_loss: 0.0667 - val_accuracy: 0.9809\n",
      "Epoch 18/30\n",
      "300/300 [==============================] - 1s 4ms/step - loss: 0.0078 - accuracy: 0.9995 - val_loss: 0.0676 - val_accuracy: 0.9813\n",
      "Epoch 19/30\n",
      "300/300 [==============================] - 1s 4ms/step - loss: 0.0072 - accuracy: 0.9996 - val_loss: 0.0675 - val_accuracy: 0.9814\n",
      "Epoch 20/30\n",
      "300/300 [==============================] - 1s 4ms/step - loss: 0.0065 - accuracy: 0.9996 - val_loss: 0.0678 - val_accuracy: 0.9809\n",
      "Epoch 21/30\n",
      "300/300 [==============================] - 1s 4ms/step - loss: 0.0059 - accuracy: 0.9998 - val_loss: 0.0681 - val_accuracy: 0.9806\n",
      "Epoch 22/30\n",
      "300/300 [==============================] - 1s 4ms/step - loss: 0.0054 - accuracy: 0.9998 - val_loss: 0.0666 - val_accuracy: 0.9806\n",
      "Epoch 23/30\n",
      "300/300 [==============================] - 1s 4ms/step - loss: 0.0051 - accuracy: 0.9998 - val_loss: 0.0680 - val_accuracy: 0.9813\n",
      "Epoch 24/30\n",
      "300/300 [==============================] - 1s 4ms/step - loss: 0.0047 - accuracy: 0.9999 - val_loss: 0.0674 - val_accuracy: 0.9809\n",
      "Epoch 25/30\n",
      "300/300 [==============================] - 1s 4ms/step - loss: 0.0044 - accuracy: 0.9999 - val_loss: 0.0683 - val_accuracy: 0.9813\n",
      "Epoch 26/30\n",
      "300/300 [==============================] - 1s 4ms/step - loss: 0.0041 - accuracy: 0.9999 - val_loss: 0.0692 - val_accuracy: 0.9815\n",
      "Epoch 27/30\n",
      "300/300 [==============================] - 1s 4ms/step - loss: 0.0037 - accuracy: 0.9999 - val_loss: 0.0680 - val_accuracy: 0.9816\n",
      "Epoch 28/30\n",
      "300/300 [==============================] - 1s 4ms/step - loss: 0.0035 - accuracy: 0.9999 - val_loss: 0.0682 - val_accuracy: 0.9820\n",
      "Epoch 29/30\n",
      "300/300 [==============================] - 1s 4ms/step - loss: 0.0034 - accuracy: 1.0000 - val_loss: 0.0685 - val_accuracy: 0.9819\n",
      "Epoch 30/30\n",
      "300/300 [==============================] - 1s 4ms/step - loss: 0.0033 - accuracy: 0.9999 - val_loss: 0.0702 - val_accuracy: 0.9812\n"
     ]
    },
    {
     "data": {
      "text/plain": [
       "<keras.callbacks.History at 0x23ea0b70fa0>"
      ]
     },
     "execution_count": 75,
     "metadata": {},
     "output_type": "execute_result"
    }
   ],
   "source": [
    "model.fit(\n",
    "    X_train_fcn,\n",
    "    y_train,\n",
    "    batch_size=200,\n",
    "    epochs=30,\n",
    "    verbose=1,\n",
    "    validation_data=(X_test_fcn, y_test)\n",
    ")"
   ]
  },
  {
   "cell_type": "markdown",
   "metadata": {},
   "source": [
    "## CNN approach"
   ]
  },
  {
   "cell_type": "code",
   "execution_count": 82,
   "metadata": {},
   "outputs": [],
   "source": [
    "model = Sequential()\n",
    "\n",
    "model.add(keras.Input(shape=(28, 28, 1)))\n",
    "model.add(Conv2D(16, (3, 3), stride=1, padding=\"same\", activation=\"relu\"))\n",
    "model.add(MaxPooling2D(pool_size=(2, 2)))\n",
    "model.add(BatchNormalization())\n",
    "\n",
    "model.add(Conv2D(24, (3, 3), stride=1, padding=\"same\", activation=\"relu\"))\n",
    "model.add(MaxPooling2D(pool_size=(2, 2)))\n",
    "model.add(BatchNormalization())\n",
    "\n",
    "model.add(Conv2D(24, (3, 3), stride=1, padding=\"same\", activation=\"relu\"))\n",
    "model.add(MaxPooling2D(pool_size=(2, 2)))\n",
    "model.add(BatchNormalization())\n",
    "\n",
    "model.add(Flatten())\n",
    "\n",
    "model.add(Dense(10, kernel_initializer='normal', activation='softmax'))"
   ]
  },
  {
   "cell_type": "code",
   "execution_count": 83,
   "metadata": {},
   "outputs": [
    {
     "name": "stdout",
     "output_type": "stream",
     "text": [
      "Model: \"sequential_11\"\n",
      "_________________________________________________________________\n",
      "Layer (type)                 Output Shape              Param #   \n",
      "=================================================================\n",
      "conv2d_12 (Conv2D)           (None, 28, 28, 16)        160       \n",
      "_________________________________________________________________\n",
      "max_pooling2d_12 (MaxPooling (None, 14, 14, 16)        0         \n",
      "_________________________________________________________________\n",
      "batch_normalization_10 (Batc (None, 14, 14, 16)        64        \n",
      "_________________________________________________________________\n",
      "conv2d_13 (Conv2D)           (None, 14, 14, 24)        3480      \n",
      "_________________________________________________________________\n",
      "max_pooling2d_13 (MaxPooling (None, 7, 7, 24)          0         \n",
      "_________________________________________________________________\n",
      "batch_normalization_11 (Batc (None, 7, 7, 24)          96        \n",
      "_________________________________________________________________\n",
      "conv2d_14 (Conv2D)           (None, 7, 7, 24)          5208      \n",
      "_________________________________________________________________\n",
      "max_pooling2d_14 (MaxPooling (None, 3, 3, 24)          0         \n",
      "_________________________________________________________________\n",
      "batch_normalization_12 (Batc (None, 3, 3, 24)          96        \n",
      "_________________________________________________________________\n",
      "flatten_4 (Flatten)          (None, 216)               0         \n",
      "_________________________________________________________________\n",
      "dense_18 (Dense)             (None, 10)                2170      \n",
      "=================================================================\n",
      "Total params: 11,274\n",
      "Trainable params: 11,146\n",
      "Non-trainable params: 128\n",
      "_________________________________________________________________\n"
     ]
    }
   ],
   "source": [
    "model.summary()"
   ]
  },
  {
   "cell_type": "code",
   "execution_count": 84,
   "metadata": {
    "scrolled": false
   },
   "outputs": [
    {
     "name": "stdout",
     "output_type": "stream",
     "text": [
      "Epoch 1/15\n",
      "300/300 [==============================] - 20s 65ms/step - loss: 0.2064 - accuracy: 0.9440 - val_loss: 1.3750 - val_accuracy: 0.4732\n",
      "Epoch 2/15\n",
      "300/300 [==============================] - 20s 68ms/step - loss: 0.0596 - accuracy: 0.9825 - val_loss: 0.0596 - val_accuracy: 0.9825\n",
      "Epoch 3/15\n",
      "300/300 [==============================] - 21s 68ms/step - loss: 0.0435 - accuracy: 0.9876 - val_loss: 0.0429 - val_accuracy: 0.9866\n",
      "Epoch 4/15\n",
      "300/300 [==============================] - 19s 64ms/step - loss: 0.0347 - accuracy: 0.9902 - val_loss: 0.0416 - val_accuracy: 0.9864\n",
      "Epoch 5/15\n",
      "300/300 [==============================] - 21s 71ms/step - loss: 0.0294 - accuracy: 0.9916 - val_loss: 0.0387 - val_accuracy: 0.9886\n",
      "Epoch 6/15\n",
      "300/300 [==============================] - 20s 68ms/step - loss: 0.0249 - accuracy: 0.9935 - val_loss: 0.0370 - val_accuracy: 0.9879\n",
      "Epoch 7/15\n",
      "300/300 [==============================] - 20s 67ms/step - loss: 0.0216 - accuracy: 0.9944 - val_loss: 0.0349 - val_accuracy: 0.9887\n",
      "Epoch 8/15\n",
      "300/300 [==============================] - 18s 62ms/step - loss: 0.0190 - accuracy: 0.9952 - val_loss: 0.0347 - val_accuracy: 0.9887\n",
      "Epoch 9/15\n",
      "300/300 [==============================] - 20s 66ms/step - loss: 0.0167 - accuracy: 0.9958 - val_loss: 0.0341 - val_accuracy: 0.9886\n",
      "Epoch 10/15\n",
      "300/300 [==============================] - 21s 68ms/step - loss: 0.0148 - accuracy: 0.9965 - val_loss: 0.0363 - val_accuracy: 0.9879\n",
      "Epoch 11/15\n",
      "300/300 [==============================] - 20s 67ms/step - loss: 0.0128 - accuracy: 0.9973 - val_loss: 0.0342 - val_accuracy: 0.9884\n",
      "Epoch 12/15\n",
      "300/300 [==============================] - 20s 66ms/step - loss: 0.0116 - accuracy: 0.9977 - val_loss: 0.0336 - val_accuracy: 0.9891\n",
      "Epoch 13/15\n",
      "300/300 [==============================] - 20s 67ms/step - loss: 0.0098 - accuracy: 0.9982 - val_loss: 0.0330 - val_accuracy: 0.9891\n",
      "Epoch 14/15\n",
      "300/300 [==============================] - 20s 68ms/step - loss: 0.0089 - accuracy: 0.9985 - val_loss: 0.0345 - val_accuracy: 0.9886\n",
      "Epoch 15/15\n",
      "300/300 [==============================] - 21s 68ms/step - loss: 0.0079 - accuracy: 0.9988 - val_loss: 0.0358 - val_accuracy: 0.9880\n"
     ]
    },
    {
     "data": {
      "text/plain": [
       "<keras.callbacks.History at 0x23ea0a74610>"
      ]
     },
     "execution_count": 84,
     "metadata": {},
     "output_type": "execute_result"
    }
   ],
   "source": [
    "model.compile(\n",
    "    loss='categorical_crossentropy',\n",
    "    optimizer=SGD(learning_rate=0.01, momentum=0.9, nesterov=True),\n",
    "    metrics=['accuracy']\n",
    ")\n",
    "\n",
    "model.fit(\n",
    "    X_train_cn,\n",
    "    y_train,\n",
    "    batch_size=200,\n",
    "    epochs=15,\n",
    "    verbose=1,\n",
    "    validation_data=(X_test_cn, y_test)\n",
    ")"
   ]
  },
  {
   "cell_type": "markdown",
   "metadata": {},
   "source": [
    "## Check"
   ]
  },
  {
   "cell_type": "code",
   "execution_count": 87,
   "metadata": {},
   "outputs": [
    {
     "name": "stdout",
     "output_type": "stream",
     "text": [
      "[[6.7279946e-09 1.5780520e-08 2.6172330e-07 1.8351948e-07 8.4090668e-10\n",
      "  3.8419337e-10 7.3735435e-13 9.9999928e-01 2.1178450e-09 2.3316434e-07]]\n",
      "Digit 7\n"
     ]
    },
    {
     "data": {
      "image/png": "[encoded data removed]",
      "text/plain": [
       "<Figure size 432x288 with 1 Axes>"
      ]
     },
     "metadata": {
      "needs_background": "light"
     },
     "output_type": "display_data"
    },
    {
     "name": "stdout",
     "output_type": "stream",
     "text": [
      "[[3.2531112e-08 3.4961349e-08 9.9999893e-01 6.0982603e-07 3.0028122e-11\n",
      "  1.5854916e-11 4.1829711e-07 4.2047902e-12 4.2271939e-08 2.5424237e-11]]\n",
      "Digit 2\n"
     ]
    },
    {
     "data": {
      "image/png": "[encoded data removed]",
      "text/plain": [
       "<Figure size 432x288 with 1 Axes>"
      ]
     },
     "metadata": {
      "needs_background": "light"
     },
     "output_type": "display_data"
    },
    {
     "name": "stdout",
     "output_type": "stream",
     "text": [
      "[[3.8462997e-05 9.9963427e-01 1.3283040e-05 3.7913999e-08 1.4370975e-04\n",
      "  1.4835763e-07 1.6292937e-05 1.2825523e-04 2.3708659e-05 1.7881810e-06]]\n",
      "Digit 1\n"
     ]
    },
    {
     "data": {
      "image/png": "[encoded data removed]",
      "text/plain": [
       "<Figure size 432x288 with 1 Axes>"
      ]
     },
     "metadata": {
      "needs_background": "light"
     },
     "output_type": "display_data"
    },
    {
     "name": "stdout",
     "output_type": "stream",
     "text": [
      "[[9.9997973e-01 2.2321200e-09 8.3486975e-07 2.6678875e-09 1.8905277e-09\n",
      "  2.5421121e-08 1.6719850e-05 1.5713284e-09 4.4661203e-07 2.3260977e-06]]\n",
      "Digit 0\n"
     ]
    },
    {
     "data": {
      "image/png": "[encoded data removed]",
      "text/plain": [
       "<Figure size 432x288 with 1 Axes>"
      ]
     },
     "metadata": {
      "needs_background": "light"
     },
     "output_type": "display_data"
    },
    {
     "name": "stdout",
     "output_type": "stream",
     "text": [
      "[[1.7997545e-08 1.3196143e-07 2.2677336e-08 1.9699150e-11 9.9999452e-01\n",
      "  1.1885542e-07 8.0716809e-08 2.2456998e-08 3.9364909e-10 5.1590864e-06]]\n",
      "Digit 4\n"
     ]
    },
    {
     "data": {
      "image/png": "[encoded data removed]",
      "text/plain": [
       "<Figure size 432x288 with 1 Axes>"
      ]
     },
     "metadata": {
      "needs_background": "light"
     },
     "output_type": "display_data"
    },
    {
     "name": "stdout",
     "output_type": "stream",
     "text": [
      "[[3.0431213e-06 9.9997747e-01 6.3877263e-07 1.5973579e-09 1.1663952e-05\n",
      "  5.7040270e-09 1.2635270e-06 3.7002285e-06 2.2570323e-06 4.7979182e-08]]\n",
      "Digit 1\n"
     ]
    },
    {
     "data": {
      "image/png": "[encoded data removed]",
      "text/plain": [
       "<Figure size 432x288 with 1 Axes>"
      ]
     },
     "metadata": {
      "needs_background": "light"
     },
     "output_type": "display_data"
    },
    {
     "name": "stdout",
     "output_type": "stream",
     "text": [
      "[[2.5312115e-09 3.2004366e-06 1.7178598e-05 1.2675251e-10 9.9889743e-01\n",
      "  6.2773593e-06 1.9510448e-07 2.4457597e-06 1.2625534e-04 9.4702450e-04]]\n",
      "Digit 4\n"
     ]
    },
    {
     "data": {
      "image/png": "[encoded data removed]",
      "text/plain": [
       "<Figure size 432x288 with 1 Axes>"
      ]
     },
     "metadata": {
      "needs_background": "light"
     },
     "output_type": "display_data"
    },
    {
     "name": "stdout",
     "output_type": "stream",
     "text": [
      "[[4.1479620e-07 8.6768948e-09 1.2910037e-07 7.3715813e-07 1.8643674e-04\n",
      "  1.9999777e-06 7.4244416e-10 1.5626174e-08 1.1660766e-07 9.9981016e-01]]\n",
      "Digit 9\n"
     ]
    },
    {
     "data": {
      "image/png": "[encoded data removed]",
      "text/plain": [
       "<Figure size 432x288 with 1 Axes>"
      ]
     },
     "metadata": {
      "needs_background": "light"
     },
     "output_type": "display_data"
    },
    {
     "name": "stdout",
     "output_type": "stream",
     "text": [
      "[[3.7454888e-07 1.7250767e-10 6.2720616e-08 1.0586467e-08 2.0593815e-07\n",
      "  9.8434061e-01 1.5489454e-02 3.2259737e-10 1.6921871e-04 1.2172961e-08]]\n",
      "Digit 5\n"
     ]
    },
    {
     "data": {
      "image/png": "[encoded data removed]",
      "text/plain": [
       "<Figure size 432x288 with 1 Axes>"
      ]
     },
     "metadata": {
      "needs_background": "light"
     },
     "output_type": "display_data"
    },
    {
     "name": "stdout",
     "output_type": "stream",
     "text": [
      "[[3.7560287e-08 3.9990186e-12 1.5307062e-07 3.9697551e-07 5.7665155e-05\n",
      "  8.7617259e-08 2.3396404e-10 1.0121964e-05 2.0276195e-06 9.9992955e-01]]\n",
      "Digit 9\n"
     ]
    },
    {
     "data": {
      "image/png": "[encoded data removed]",
      "text/plain": [
       "<Figure size 432x288 with 1 Axes>"
      ]
     },
     "metadata": {
      "needs_background": "light"
     },
     "output_type": "display_data"
    },
    {
     "name": "stdout",
     "output_type": "stream",
     "text": [
      "[[9.9999309e-01 6.3551020e-10 4.5670222e-06 1.0891121e-10 2.8383294e-11\n",
      "  2.9605790e-08 1.6960091e-06 3.5210608e-09 6.8186473e-08 5.4347782e-07]]\n",
      "Digit 0\n"
     ]
    },
    {
     "data": {
      "image/png": "[encoded data removed]",
      "text/plain": [
       "<Figure size 432x288 with 1 Axes>"
      ]
     },
     "metadata": {
      "needs_background": "light"
     },
     "output_type": "display_data"
    }
   ],
   "source": [
    "for i in range(11):\n",
    "    prediction = model.predict(X_test_cn[i:i+1])\n",
    "    print(prediction)\n",
    "    print('Digit', prediction.argmax())\n",
    "    plt.imshow(X_test_cn[i].reshape(28,28))\n",
    "    plt.show()"
   ]
  },
  {
   "cell_type": "markdown",
   "metadata": {
    "scrolled": false
   },
   "source": [
    "## CNN origins - LeNet"
   ]
  },
  {
   "cell_type": "code",
   "execution_count": 88,
   "metadata": {},
   "outputs": [
    {
     "name": "stdout",
     "output_type": "stream",
     "text": [
      "Model: \"sequential_13\"\n",
      "_________________________________________________________________\n",
      "Layer (type)                 Output Shape              Param #   \n",
      "=================================================================\n",
      "conv2d_16 (Conv2D)           (None, 24, 24, 6)         156       \n",
      "_________________________________________________________________\n",
      "average_pooling2d (AveragePo (None, 12, 12, 6)         0         \n",
      "_________________________________________________________________\n",
      "conv2d_17 (Conv2D)           (None, 8, 8, 16)          2416      \n",
      "_________________________________________________________________\n",
      "average_pooling2d_1 (Average (None, 4, 4, 16)          0         \n",
      "_________________________________________________________________\n",
      "flatten_5 (Flatten)          (None, 256)               0         \n",
      "_________________________________________________________________\n",
      "dense_19 (Dense)             (None, 120)               30840     \n",
      "_________________________________________________________________\n",
      "dense_20 (Dense)             (None, 84)                10164     \n",
      "_________________________________________________________________\n",
      "dense_21 (Dense)             (None, 10)                850       \n",
      "=================================================================\n",
      "Total params: 44,426\n",
      "Trainable params: 44,426\n",
      "Non-trainable params: 0\n",
      "_________________________________________________________________\n"
     ]
    }
   ],
   "source": [
    "lenet = Sequential()\n",
    "lenet.add(keras.Input(shape=(28, 28, 1)))\n",
    "\n",
    "lenet.add(Conv2D(filters=6, kernel_size=(5,5), padding='valid', activation='tanh'))\n",
    "lenet.add(AveragePooling2D(pool_size=(2,2)))\n",
    "lenet.add(Conv2D(filters=16, kernel_size=(5,5), padding='valid', activation='tanh'))\n",
    "lenet.add(AveragePooling2D(pool_size=(2,2)))\n",
    "lenet.add(Flatten())\n",
    "lenet.add(Dense(120, activation='tanh'))\n",
    "lenet.add(Dense(84, activation='tanh'))\n",
    "lenet.add(Dense(10, activation='softmax'))\n",
    "\n",
    "lenet.summary()"
   ]
  },
  {
   "cell_type": "code",
   "execution_count": 89,
   "metadata": {
    "scrolled": false
   },
   "outputs": [
    {
     "name": "stdout",
     "output_type": "stream",
     "text": [
      "Epoch 1/15\n",
      "300/300 [==============================] - 7s 23ms/step - loss: 0.5596 - accuracy: 0.8453 - val_loss: 0.2574 - val_accuracy: 0.9254\n",
      "Epoch 2/15\n",
      "300/300 [==============================] - 7s 23ms/step - loss: 0.2208 - accuracy: 0.9356 - val_loss: 0.1638 - val_accuracy: 0.9523\n",
      "Epoch 3/15\n",
      "300/300 [==============================] - 7s 23ms/step - loss: 0.1493 - accuracy: 0.9563 - val_loss: 0.1166 - val_accuracy: 0.9655\n",
      "Epoch 4/15\n",
      "300/300 [==============================] - 7s 24ms/step - loss: 0.1110 - accuracy: 0.9677 - val_loss: 0.0937 - val_accuracy: 0.9713\n",
      "Epoch 5/15\n",
      "300/300 [==============================] - 7s 24ms/step - loss: 0.0891 - accuracy: 0.9736 - val_loss: 0.0740 - val_accuracy: 0.9768\n",
      "Epoch 6/15\n",
      "300/300 [==============================] - 8s 25ms/step - loss: 0.0752 - accuracy: 0.9778 - val_loss: 0.0637 - val_accuracy: 0.9803\n",
      "Epoch 7/15\n",
      "300/300 [==============================] - 7s 22ms/step - loss: 0.0652 - accuracy: 0.9807 - val_loss: 0.0613 - val_accuracy: 0.9803\n",
      "Epoch 8/15\n",
      "300/300 [==============================] - 7s 24ms/step - loss: 0.0584 - accuracy: 0.9829 - val_loss: 0.0531 - val_accuracy: 0.9828\n",
      "Epoch 9/15\n",
      "300/300 [==============================] - 7s 24ms/step - loss: 0.0529 - accuracy: 0.9843 - val_loss: 0.0481 - val_accuracy: 0.9839\n",
      "Epoch 10/15\n",
      "300/300 [==============================] - 7s 23ms/step - loss: 0.0485 - accuracy: 0.9859 - val_loss: 0.0449 - val_accuracy: 0.9853\n",
      "Epoch 11/15\n",
      "300/300 [==============================] - 7s 23ms/step - loss: 0.0450 - accuracy: 0.9866 - val_loss: 0.0421 - val_accuracy: 0.9868\n",
      "Epoch 12/15\n",
      "300/300 [==============================] - 7s 23ms/step - loss: 0.0416 - accuracy: 0.9879 - val_loss: 0.0407 - val_accuracy: 0.9865\n",
      "Epoch 13/15\n",
      "300/300 [==============================] - 7s 24ms/step - loss: 0.0391 - accuracy: 0.9883 - val_loss: 0.0395 - val_accuracy: 0.9860\n",
      "Epoch 14/15\n",
      "300/300 [==============================] - 7s 23ms/step - loss: 0.0368 - accuracy: 0.9890 - val_loss: 0.0382 - val_accuracy: 0.9875\n",
      "Epoch 15/15\n",
      "300/300 [==============================] - 7s 24ms/step - loss: 0.0343 - accuracy: 0.9895 - val_loss: 0.0388 - val_accuracy: 0.9870\n"
     ]
    },
    {
     "data": {
      "text/plain": [
       "<keras.callbacks.History at 0x23ea19a6b80>"
      ]
     },
     "execution_count": 89,
     "metadata": {},
     "output_type": "execute_result"
    }
   ],
   "source": [
    "lenet.compile(\n",
    "    loss='categorical_crossentropy',\n",
    "    optimizer=SGD(learning_rate=0.01, momentum=0.9, nesterov=True),\n",
    "    metrics=['accuracy']\n",
    ")\n",
    "\n",
    "lenet.fit(\n",
    "    X_train_cn,\n",
    "    y_train,\n",
    "    batch_size=200,\n",
    "    epochs=15,\n",
    "    verbose=1,\n",
    "    validation_data=(X_test_cn, y_test)\n",
    ")"
   ]
  }
 ],
 "metadata": {
  "kernelspec": {
   "display_name": "Python 3",
   "language": "python",
   "name": "python3"
  },
  "language_info": {
   "codemirror_mode": {
    "name": "ipython",
    "version": 3
   },
   "file_extension": ".py",
   "mimetype": "text/x-python",
   "name": "python",
   "nbconvert_exporter": "python",
   "pygments_lexer": "ipython3",
   "version": "3.8.3"
  }
 },
 "nbformat": 4,
 "nbformat_minor": 5
}

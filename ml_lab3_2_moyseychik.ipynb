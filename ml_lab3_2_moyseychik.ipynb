{
 "cells": [
  {
   "cell_type": "code",
   "execution_count": 1,
   "metadata": {},
   "outputs": [],
   "source": [
    "import numpy as np\n",
    "import pandas as pd\n",
    "from sklearn.model_selection import train_test_split\n",
    "from matplotlib import pyplot as plt"
   ]
  },
  {
   "cell_type": "code",
   "execution_count": 2,
   "metadata": {},
   "outputs": [
    {
     "data": {
      "text/html": [
       "<div>\n",
       "<style scoped>\n",
       "    .dataframe tbody tr th:only-of-type {\n",
       "        vertical-align: middle;\n",
       "    }\n",
       "\n",
       "    .dataframe tbody tr th {\n",
       "        vertical-align: top;\n",
       "    }\n",
       "\n",
       "    .dataframe thead th {\n",
       "        text-align: right;\n",
       "    }\n",
       "</style>\n",
       "<table border=\"1\" class=\"dataframe\">\n",
       "  <thead>\n",
       "    <tr style=\"text-align: right;\">\n",
       "      <th></th>\n",
       "      <th>Unnamed: 0</th>\n",
       "      <th>x</th>\n",
       "      <th>y</th>\n",
       "    </tr>\n",
       "  </thead>\n",
       "  <tbody>\n",
       "    <tr>\n",
       "      <th>0</th>\n",
       "      <td>0</td>\n",
       "      <td>0.00000</td>\n",
       "      <td>2.580851</td>\n",
       "    </tr>\n",
       "    <tr>\n",
       "      <th>1</th>\n",
       "      <td>1</td>\n",
       "      <td>0.10101</td>\n",
       "      <td>10.067534</td>\n",
       "    </tr>\n",
       "    <tr>\n",
       "      <th>2</th>\n",
       "      <td>2</td>\n",
       "      <td>0.20202</td>\n",
       "      <td>-2.039445</td>\n",
       "    </tr>\n",
       "    <tr>\n",
       "      <th>3</th>\n",
       "      <td>3</td>\n",
       "      <td>0.30303</td>\n",
       "      <td>1.916130</td>\n",
       "    </tr>\n",
       "    <tr>\n",
       "      <th>4</th>\n",
       "      <td>4</td>\n",
       "      <td>0.40404</td>\n",
       "      <td>3.135393</td>\n",
       "    </tr>\n",
       "    <tr>\n",
       "      <th>...</th>\n",
       "      <td>...</td>\n",
       "      <td>...</td>\n",
       "      <td>...</td>\n",
       "    </tr>\n",
       "    <tr>\n",
       "      <th>95</th>\n",
       "      <td>95</td>\n",
       "      <td>9.59596</td>\n",
       "      <td>-14.794947</td>\n",
       "    </tr>\n",
       "    <tr>\n",
       "      <th>96</th>\n",
       "      <td>96</td>\n",
       "      <td>9.69697</td>\n",
       "      <td>-11.593438</td>\n",
       "    </tr>\n",
       "    <tr>\n",
       "      <th>97</th>\n",
       "      <td>97</td>\n",
       "      <td>9.79798</td>\n",
       "      <td>-12.225714</td>\n",
       "    </tr>\n",
       "    <tr>\n",
       "      <th>98</th>\n",
       "      <td>98</td>\n",
       "      <td>9.89899</td>\n",
       "      <td>-15.493240</td>\n",
       "    </tr>\n",
       "    <tr>\n",
       "      <th>99</th>\n",
       "      <td>99</td>\n",
       "      <td>10.00000</td>\n",
       "      <td>-11.528757</td>\n",
       "    </tr>\n",
       "  </tbody>\n",
       "</table>\n",
       "<p>100 rows × 3 columns</p>\n",
       "</div>"
      ],
      "text/plain": [
       "    Unnamed: 0         x          y\n",
       "0            0   0.00000   2.580851\n",
       "1            1   0.10101  10.067534\n",
       "2            2   0.20202  -2.039445\n",
       "3            3   0.30303   1.916130\n",
       "4            4   0.40404   3.135393\n",
       "..         ...       ...        ...\n",
       "95          95   9.59596 -14.794947\n",
       "96          96   9.69697 -11.593438\n",
       "97          97   9.79798 -12.225714\n",
       "98          98   9.89899 -15.493240\n",
       "99          99  10.00000 -11.528757\n",
       "\n",
       "[100 rows x 3 columns]"
      ]
     },
     "execution_count": 2,
     "metadata": {},
     "output_type": "execute_result"
    }
   ],
   "source": [
    "data = pd.read_csv(r'D:\\datasets\\regression\\3-2_data.csv')\n",
    "data "
   ]
  },
  {
   "cell_type": "markdown",
   "metadata": {},
   "source": [
    "Кроме разбиения данных здесь поменяла немного формат их хранения, чтобы в регрессор передавать транспонированную матрицу признаков. Т.е. в строке теперь хранятся данные одного признака, а не одного объекта наблюдения. Так дальше будет удобнее итерироваться по ним."
   ]
  },
  {
   "cell_type": "code",
   "execution_count": 3,
   "metadata": {},
   "outputs": [],
   "source": [
    "train_data, test_data = train_test_split(data, test_size=0.3, random_state=32)\n",
    "\n",
    "x_train, y_train = train_data['x'].to_numpy(), train_data['y'].to_numpy()\n",
    "x_test, y_test = test_data['x'].to_numpy(), test_data['y'].to_numpy()\n",
    "\n",
    "x_train = np.array([x_train])\n",
    "x_test = np.array([x_test])"
   ]
  },
  {
   "cell_type": "markdown",
   "metadata": {},
   "source": [
    "Добавим две простейшие функции шага спуска из предыдущей лабы."
   ]
  },
  {
   "cell_type": "code",
   "execution_count": 4,
   "metadata": {},
   "outputs": [],
   "source": [
    "class StepFunc:\n",
    "    def make_step(self, point, grad_f):\n",
    "        pass\n",
    "\n",
    "class SimpleStep(StepFunc):\n",
    "    def __init__(self, learning_rate):\n",
    "        self.learning_rate = learning_rate\n",
    "    \n",
    "    def make_step(self, point, grad_f):\n",
    "        return point - self.learning_rate * grad_f(point)\n",
    "    \n",
    "class MomentumStep(StepFunc):\n",
    "    def __init__(self, learning_rate, momentum):\n",
    "        self.learning_rate = learning_rate\n",
    "        self.momentum = momentum\n",
    "        self.history = 0.0\n",
    "        \n",
    "    def make_step(self, point, grad_f):\n",
    "        self.history = self.learning_rate * grad_f(point) + self.momentum * self.history\n",
    "        return point - self.history"
   ]
  },
  {
   "cell_type": "markdown",
   "metadata": {},
   "source": [
    "Оптимизатор также взяла их предыдущей лабы, но теперь обобщила его для случая N переменных. Теперь вместо двух стартовых координат передаю массив координат start_point любой размерности."
   ]
  },
  {
   "cell_type": "code",
   "execution_count": 5,
   "metadata": {},
   "outputs": [],
   "source": [
    "class Optimizer:\n",
    "    def __init__(self, max_iterations, precision):\n",
    "        self.max_iterations = max_iterations\n",
    "        self.precision = precision\n",
    "    \n",
    "    def optimize(self, func, grad_f, start_point, step_func):\n",
    "        path = np.array([\n",
    "            [start_point, func(start_point)]\n",
    "        ])\n",
    "        \n",
    "        i = 0\n",
    "        step_size = 1000\n",
    "        \n",
    "        next_point = np.copy(start_point)\n",
    "        \n",
    "        while i < self.max_iterations and step_size > self.precision:\n",
    "            curr_point = np.copy(next_point)\n",
    "            next_point = step_func.make_step(curr_point, grad_f)\n",
    "\n",
    "            row = np.array([next_point, func(next_point)])\n",
    "            path = np.append(path, [row], axis=0)\n",
    "\n",
    "            step_size = np.linalg.norm(next_point - curr_point)\n",
    "            i += 1\n",
    "        \n",
    "        return path"
   ]
  },
  {
   "cell_type": "markdown",
   "metadata": {},
   "source": [
    "Здесь также были попытки в обобщённый вариант, поэтому считаю значение функций сразу для всего набора и возвращаю вектор. \n",
    "\n",
    "\n",
    "Первая функция здесь - это линейная комбинация, которой мы будем приближать спрятанную в данных зависимость. Вторая - частные производные этой линейной комбинации по i-ому параметру для всего набора. Она понадобится для аналитического вычисления градиента функции MSE, которую будем использовать в качестве функции потерь.\n",
    "\n",
    "\n",
    "Также тут предполагается, что матрица features передаётся уже транспонированной."
   ]
  },
  {
   "cell_type": "code",
   "execution_count": 6,
   "metadata": {},
   "outputs": [],
   "source": [
    "def linear(features, params):\n",
    "    result = params[-1]\n",
    "    \n",
    "    for i, column in enumerate(features):\n",
    "        result += params[i] * column\n",
    "    \n",
    "    return result\n",
    "\n",
    "def linear_p_derivatives(features, params, i):\n",
    "    if i >= len(features):\n",
    "        return np.ones(len(features[0]))\n",
    "    \n",
    "    return features[i]"
   ]
  },
  {
   "cell_type": "code",
   "execution_count": 7,
   "metadata": {},
   "outputs": [],
   "source": [
    "class LossFunc:\n",
    "    def __init__(self, X, Y):\n",
    "        self.X = X\n",
    "        self.Y = Y\n",
    "    \n",
    "    def calc(self, params):\n",
    "        pass\n",
    "    \n",
    "    def calc_grad(self, params):\n",
    "        pass\n",
    "    \n",
    "class MSE(LossFunc):\n",
    "    def __init__(self, X, Y, func, func_p_derivatives):\n",
    "        super().__init__(X, Y)\n",
    "        \n",
    "        self.func = func\n",
    "        self.func_p_derivatives = func_p_derivatives\n",
    "    \n",
    "    def r(self, params):\n",
    "        return np.subtract(self.Y, self.func(self.X, params))\n",
    "        \n",
    "    def calc(self, params):\n",
    "        return np.square(self.r(params)).mean()\n",
    "    \n",
    "    def calc_grad(self, params):\n",
    "        grad = []\n",
    "        \n",
    "        for i in range(len(params)):\n",
    "            grad.append(-2 * (self.r(params) * self.func_p_derivatives(self.X, params, i)).mean())\n",
    "        \n",
    "        return np.array(grad)"
   ]
  },
  {
   "cell_type": "markdown",
   "metadata": {},
   "source": [
    "И наконец сам регрессор."
   ]
  },
  {
   "cell_type": "code",
   "execution_count": 8,
   "metadata": {},
   "outputs": [],
   "source": [
    "class SimpleRegressor:\n",
    "    def fit(self, X, Y, learning_rate=0.001, use_momentum=True):\n",
    "        self.mse = MSE(X, Y, linear, linear_p_derivatives)\n",
    "        self.params = np.ones(len(X) + 1)\n",
    "        \n",
    "        optimizer = Optimizer(2000, 0.001)\n",
    "        step_func = MomentumStep(learning_rate, 0.8) if use_momentum else SimpleStep(learning_rate)\n",
    "        \n",
    "        self.path = optimizer.optimize(self.mse.calc, self.mse.calc_grad, self.params, step_func)\n",
    "        \n",
    "        self.params = self.path[-1][0]\n",
    "    \n",
    "    def predict(self, X):\n",
    "        return linear(X, self.params)\n",
    "    \n",
    "    def get_fit_path(self):\n",
    "        return self.path"
   ]
  },
  {
   "cell_type": "markdown",
   "metadata": {},
   "source": [
    "Обучим такой предсказатель и отобразим результат."
   ]
  },
  {
   "cell_type": "code",
   "execution_count": 9,
   "metadata": {},
   "outputs": [],
   "source": [
    "regressor = SimpleRegressor()\n",
    "regressor.fit(x_train, y_train)"
   ]
  },
  {
   "cell_type": "code",
   "execution_count": 11,
   "metadata": {},
   "outputs": [
    {
     "data": {
      "image/png": "[encoded data removed]",
      "text/plain": [
       "<Figure size 432x288 with 1 Axes>"
      ]
     },
     "metadata": {
      "needs_background": "light"
     },
     "output_type": "display_data"
    },
    {
     "name": "stdout",
     "output_type": "stream",
     "text": [
      "2.779361258014949 0.7299607615253461\n"
     ]
    }
   ],
   "source": [
    "y_pred = regressor.predict(x_test)\n",
    "\n",
    "plt.scatter(x_train[0], y_train)\n",
    "plt.scatter(x_test[0], y_test, color='green')\n",
    "plt.plot(x_test[0], y_pred, color='red')\n",
    "\n",
    "plt.show()\n",
    "\n",
    "from sklearn.metrics import mean_squared_error, r2_score\n",
    " \n",
    "rmse = mean_squared_error(y_test, y_pred) ** 0.5\n",
    "r2 = r2_score(y_test, y_pred)\n",
    "\n",
    "print(rmse, r2)"
   ]
  },
  {
   "cell_type": "markdown",
   "metadata": {},
   "source": [
    "Для сравнения результатов добавила библиотечный вариант регрессора на тех же данных."
   ]
  },
  {
   "cell_type": "code",
   "execution_count": 12,
   "metadata": {},
   "outputs": [
    {
     "name": "stdout",
     "output_type": "stream",
     "text": [
      "2.84407437254858 0.7172394787622649\n"
     ]
    },
    {
     "data": {
      "image/png": "[encoded data removed]",
      "text/plain": [
       "<Figure size 432x288 with 1 Axes>"
      ]
     },
     "metadata": {
      "needs_background": "light"
     },
     "output_type": "display_data"
    }
   ],
   "source": [
    "from sklearn.linear_model import LinearRegression\n",
    "\n",
    "reg = LinearRegression()\n",
    "reg.fit(x_train.T, y_train)\n",
    "y_pred = reg.predict(x_test.T)\n",
    "\n",
    "plt.scatter(x_train[0], y_train)\n",
    "plt.scatter(x_test[0], y_test, color='green')\n",
    "plt.plot(x_test[0], y_pred, color='red')\n",
    "\n",
    "rmse = mean_squared_error(y_test, y_pred) ** 0.5\n",
    "r2 = r2_score(y_test, y_pred)\n",
    "\n",
    "print(rmse, r2)"
   ]
  },
  {
   "cell_type": "markdown",
   "metadata": {},
   "source": [
    "Визуализируем падение значения функции ошибки с увеличением числа итераций."
   ]
  },
  {
   "cell_type": "code",
   "execution_count": 13,
   "metadata": {},
   "outputs": [
    {
     "data": {
      "text/plain": [
       "[<matplotlib.lines.Line2D at 0x1cd87ef41c0>]"
      ]
     },
     "execution_count": 13,
     "metadata": {},
     "output_type": "execute_result"
    },
    {
     "data": {
      "image/png": "[encoded data removed]",
      "text/plain": [
       "<Figure size 432x288 with 1 Axes>"
      ]
     },
     "metadata": {
      "needs_background": "light"
     },
     "output_type": "display_data"
    }
   ],
   "source": [
    "path = regressor.get_fit_path()\n",
    "\n",
    "n_iterations = np.arange(len(path))\n",
    "plt.plot(n_iterations, path[:, 1])"
   ]
  },
  {
   "cell_type": "markdown",
   "metadata": {},
   "source": [
    "Попробуем отключить модификации градиентного спуска для регрессора и установить learning_rate = 1."
   ]
  },
  {
   "cell_type": "code",
   "execution_count": 14,
   "metadata": {},
   "outputs": [
    {
     "name": "stdout",
     "output_type": "stream",
     "text": [
      "[[array([1., 1.]) 198.69932432081092]\n",
      " [array([-163.84948988,  -21.45289837]) 987267.2064259808]\n",
      " [array([11740.52166355,  1732.75221693]) 5164960227.435223]\n",
      " [array([-849311.77001785, -125077.47309602]) 27021069539845.984]\n",
      " [array([61430496.07881246,  9047130.56381947]) 1.4136376039205146e+17]\n",
      " [array([-4.44326087e+09, -6.54377604e+08]) 7.395603909281831e+20]\n",
      " [array([3.21380550e+11, 4.73310575e+10]) 3.869093254968341e+24]\n",
      " [array([-2.32454183e+13, -3.42344996e+12]) 2.0241595952500393e+28]\n",
      " [array([1.68133844e+15, 2.47617743e+14]) 1.0589618282737221e+32]\n",
      " [array([-1.21611017e+17, -1.79101630e+16]) 5.540077750649402e+35]\n",
      " [array([8.79611092e+18, 1.29544004e+18]) 2.898353903206708e+39]\n",
      " [array([-6.36221695e+20, -9.36990295e+19]) 1.5163063997159372e+43]\n",
      " [array([4.60178423e+22, 6.77724007e+21]) 7.932727246578526e+46]\n",
      " [array([-3.32846526e+24, -4.90196997e+23]) 4.150095362019061e+50]\n",
      " [array([2.40747511e+26, 3.54558927e+25]) 2.1711690038606485e+54]\n",
      " [array([-1.74132399e+28, -2.56452065e+27]) 1.1358714516458355e+58]\n",
      " [array([1.25949764e+30, 1.85491485e+29]) 5.942439084059555e+61]\n",
      " [array([-9.10993203e+31, -1.34165779e+31]) 3.1088537542335417e+65]\n",
      " [array([6.58920340e+33, 9.70419539e+32]) 1.6264317611833884e+69]\n",
      " [array([-4.76596327e+35, -7.01903340e+34]) 8.50886044473413e+72]\n",
      " [array([3.44721577e+37, 5.07685882e+36]) 4.4515059159495595e+76]\n",
      " [array([-2.49336722e+39, -3.67208616e+38]) 2.328855320690725e+80]\n",
      " [array([1.80344965e+41, 2.65601571e+40]) 1.218366819479467e+84]\n",
      " [array([-1.30443307e+43, -1.92109312e+42]) 6.374022867029125e+87]\n",
      " [array([9.43494941e+44, 1.38952445e+44]) 3.334641657983438e+91]\n",
      " [array([-6.82428810e+46, -1.00504145e+46]) 1.7445552391532894e+95]\n",
      " [array([4.93599976e+48, 7.26945326e+47]) 9.126836687746756e+98]\n",
      " [array([-3.57020297e+50, -5.25798721e+49]) 4.774807128791687e+102]\n",
      " [array([2.58232372e+52, 3.80309613e+51]) 2.4979939816134156e+106]\n",
      " [array([-1.86779179e+54, -2.75077507e+53]) 1.3068536097616028e+110]\n",
      " [array([1.35097166e+56, 1.98963246e+55]) 6.836951449514088e+113]\n",
      " [array([-9.77156253e+57, -1.43909888e+57]) 3.576827945674793e+117]\n",
      " [array([7.06775998e+59, 1.04089857e+59]) 1.871257715874144e+121]\n",
      " [array([-5.11210269e+61, -7.52880741e+60]) 9.789694926346026e+124]\n",
      " [array([3.69757802e+63, 5.44557777e+62]) 5.1215888617541405e+128]\n",
      " [array([-2.67445394e+65, -3.93878016e+64]) 2.6794167403778942e+132]\n",
      " [array([1.93442947e+67, 2.84891518e+66]) 1.4017669638086498e+136]\n",
      " [array([-1.39917062e+69, -2.06061708e+68]) 7.333501322187722e+139]\n",
      " [array([1.01201851e+71, 1.49044198e+70]) 3.8366035889736097e+143]\n",
      " [array([-7.31991827e+72, -1.07803497e+72]) 2.0071622615504048e+147]\n",
      " [array([5.29448849e+74, 7.79741461e+73]) 1.0500694822291806e+151]\n",
      " [array([-3.82949746e+76, -5.63986105e+75]) 5.493556443500168e+154]\n",
      " [array([2.76987113e+78, 4.07930503e+77]) 2.874015758829139e+158]\n",
      " [array([-2.00344461e+80, -2.95055666e+79]) 1.5035736261108618e+162]\n",
      " [array([1.44908919e+82, 2.13413425e+81]) 7.866114311277046e+165]\n",
      " [array([-1.04812455e+84, -1.54361686e+83]) 4.115246056697945e+169]\n",
      " [array([7.58107287e+85, 1.11649630e+85]) 2.152937198343179e+173]\n",
      " [array([-5.48338132e+87, -8.07560497e+86]) 1.1263332778038039e+177]\n",
      " [array([3.96612343e+89, 5.84107582e+88]) 5.892539056246276e+180]\n",
      " [array([-2.86869253e+91, -4.22484345e+90]) 3.0827479941896894e+184]\n",
      " [array([2.07492202e+93, 3.05582442e+92]) 1.6127742395880638e+188]\n",
      " [array([-1.50078872e+95, -2.21027430e+94]) 8.437409586450966e+191]\n",
      " [array([1.08551876e+97, 1.59868887e+96]) 4.414125596879448e+195]\n",
      " [array([-7.85154475e+98, -1.15632983e+98]) 2.3092993869012995e+199]\n",
      " [array([5.67901332e+100, 8.36372040e+099]) 1.2081359130589232e+203]\n",
      " [array([-4.10762383e+102, -6.04946938e+101]) 6.320498730921377e+206]\n",
      " [array([2.97103961e+104, 4.37557427e+103]) 3.3066399049781727e+210]\n",
      " [array([-2.14894954e+106, -3.16484786e+105]) 1.7299058075437916e+214]\n",
      " [array([1.55433274e+108, 2.28913083e+107]) 9.050196540809883e+217]\n",
      " [array([-1.12424709e+110, -1.65572570e+109]) 4.734711975074615e+221]\n",
      " [array([8.13166633e+111, 1.19758450e+111]) 2.4770177515845278e+225]\n",
      " [array([-5.88162494e+113, -8.66211500e+112]) 1.2958796594101541e+229]\n",
      " [array([4.25417258e+115, 6.26529785e+114]) 6.779539995620702e+232]\n",
      " [array([-3.07703815e+117, -4.53168276e+116]) 3.546792498706351e+236]\n",
      " [array([2.22561817e+119, 3.27776095e+118]) 1.8555443344246995e+240]\n",
      " [array([-1.60978707e+121, -2.37080074e+120]) 9.707488606315164e+243]\n",
      " [array([1.16435714e+123, 1.71479746e+122]) 5.078581702061881e+247]\n",
      " [array([-8.42178188e+124, -1.24031103e+124]) 2.6569170617144885e+251]\n",
      " [array([6.09146518e+126, 8.97115550e+125]) 1.3899960041921826e+255]\n",
      " [array([-4.40594979e+128, -6.48882649e+127]) 7.271920224801721e+258]\n",
      " [array([3.18681843e+130, 4.69336077e+129]) 3.8043867461772166e+262]\n",
      " [array([-2.30502212e+132, -3.39470247e+131]) 1.990307658371418e+266]\n",
      " [array([1.66721986e+134, 2.45538440e+133]) 1.0412518072597109e+270]\n",
      " [array([-1.20589821e+136, -1.77597673e+135]) 5.447425786467463e+273]\n",
      " [array([8.72224795e+137, 1.28456193e+137]) 2.849881987447942e+277]\n",
      " [array([-6.30879195e+139, -9.29122172e+138]) 1.4909477725344217e+281]\n",
      " [array([4.56314199e+141, 6.72033002e+140]) 7.800060740114975e+284]\n",
      " [array([-3.30051537e+143, -4.86080701e+142]) 4.08068938900932e+288]\n",
      " [array([2.38725899e+145, 3.51581614e+144]) 2.1348584894901486e+292]\n",
      " [array([-1.72670169e+147, -2.54298578e+146]) 1.1168751982014063e+296]\n",
      " [array([1.24892135e+149, 1.83933870e+148]) 5.84305805044408e+299]\n",
      " [array([-9.03343384e+150, -1.33039158e+150]) 3.056861450217526e+303]\n",
      " [array([6.53387234e+152, 9.62270702e+151]) inf]\n",
      " [array([-4.72594238e+154, -6.96009296e+153]) inf]\n",
      " [array([3.41826871e+156, 5.03422727e+155]) inf]\n",
      " [array([-2.47242984e+158, -3.64125081e+157]) inf]\n",
      " [array([1.78830567e+160, 2.63371254e+159]) inf]\n",
      " [array([-1.29347944e+162, -1.90496126e+161]) inf]\n",
      " [array([9.35572197e+163, 1.37785630e+163]) inf]\n",
      " [array([-6.76698298e+165, -9.96601881e+164]) inf]\n",
      " [array([4.89455104e+167, 7.20840999e+166]) inf]\n",
      " [array([-3.54022316e+169, -5.21383468e+168]) inf]\n",
      " [array([2.56063935e+171, 3.77116065e+170]) inf]\n",
      " [array([-1.85210751e+173, -2.72767618e+172]) inf]\n",
      " [array([1.33962724e+175, 1.97292505e+174]) inf]\n",
      " [array([-9.68950847e+176, -1.42701443e+176]) inf]\n",
      " [array([7.00841037e+178, 1.03215790e+178]) inf]\n",
      " [array([-5.06917519e+180, -7.46558628e+179]) inf]\n",
      " [array([3.66652861e+182, 5.39985000e+181]) inf]\n",
      " [array([-2.65199594e+184, -3.90570532e+183]) inf]\n",
      " [array([1.91818562e+186, 2.82499218e+185]) inf]\n",
      " [array([-1.38742146e+188, -2.04331361e+187]) inf]\n",
      " [array([1.00352036e+190, 1.47792639e+189]) inf]\n",
      " [array([-7.25845123e+191, -1.06898247e+191]) inf]\n",
      " [array([5.25002946e+193, 7.73193792e+192]) inf]\n",
      " [array([-3.79734029e+195, -5.59250184e+194]) inf]\n",
      " [array([2.74661188e+197, 4.04505017e+196]) inf]\n",
      " [array([-1.98662123e+199, -2.92578015e+198]) inf]\n",
      " [array([1.43692086e+201, 2.11621343e+200]) inf]\n",
      " [array([-1.03932321e+203, -1.53065475e+202]) inf]\n",
      " [array([7.51741286e+204, 1.10712083e+204]) inf]\n",
      " [array([-5.43733611e+206, -8.00779226e+205]) inf]\n",
      " [array([3.93281897e+208, 5.79202696e+207]) inf]\n",
      " [array([-2.84460346e+210, -4.18936646e+209]) inf]\n",
      " [array([2.05749842e+212, 3.03016396e+211]) inf]\n",
      " [array([-1.48818625e+214, -2.19171412e+213]) inf]\n",
      " [array([1.07640341e+216, 1.58526431e+215]) inf]\n",
      " [array([-7.78561353e+217, -1.14661986e+217]) inf]\n",
      " [array([5.63132534e+219, 8.29348832e+218]) inf]\n",
      " [array([-4.07313117e+221, -5.99867060e+220]) inf]\n",
      " [array([2.94609111e+223, 4.33883157e+222]) inf]\n",
      " [array([-2.13090432e+225, -3.13827190e+224]) inf]\n",
      " [array([1.54128065e+227, 2.26990847e+226]) inf]\n",
      " [array([-1.11480653e+229, -1.64182220e+228]) inf]\n",
      " [array([8.06338286e+230, 1.18752811e+230]) inf]\n",
      " [array([-5.83223558e+232, -8.58937723e+231]) inf]\n",
      " [array([4.21844931e+234, 6.21268671e+233]) inf]\n",
      " [array([-3.05119955e+236, -4.49362918e+235]) inf]\n",
      " [array([2.20692914e+238, 3.25023683e+237]) inf]\n",
      " [array([-1.59626932e+240, -2.35089258e+239]) inf]\n",
      " [array([1.15457977e+242, 1.70039791e+241]) inf]\n",
      " [array([-8.35106224e+243, -1.22989586e+243]) inf]\n",
      " [array([6.04031375e+245, 8.89582265e+244]) inf]\n",
      " [array([-4.36895201e+247, -6.43433833e+246]) inf]\n",
      " [array([3.16005798e+249, 4.65394954e+248]) inf]\n",
      " [array([-2.28566632e+251, -3.36619637e+250]) inf]\n",
      " [array([1.65321983e+253, 2.43476598e+252]) inf]\n",
      " [array([-1.19577201e+255, -1.76106344e+254]) inf]\n",
      " [array([8.64900523e+256, 1.27377517e+256]) inf]\n",
      " [array([-6.25581557e+258, -9.21320120e+257]) inf]\n",
      " [array([4.52482424e+260, 6.66389787e+259]) inf]\n",
      " [array([-3.27280018e+262, -4.81998969e+261]) inf]\n",
      " [array([2.36721262e+264, 3.48629302e+263]) inf]\n",
      " [array([-1.71220218e+266, -2.52163175e+265]) inf]\n",
      " [array([1.23843387e+268, 1.82389335e+267]) inf]\n",
      " [array([-8.95757801e+269, -1.31921997e+269]) inf]\n",
      " [array([6.47900591e+271, 9.54190294e+270]) inf]\n",
      " [array([-4.68625755e+273, -6.90164746e+272]) inf]\n",
      " [array([3.38956472e+275, 4.99195370e+274]) inf]\n",
      " [array([-2.45166828e+277, -3.61067439e+276]) inf]\n",
      " [array([1.77328885e+279, 2.61159665e+278]) inf]\n",
      " [array([-1.28261780e+281, -1.88896486e+280]) inf]\n",
      " [array([9.27715982e+282, 1.36628612e+282]) inf]\n",
      " [array([-6.71015907e+284, -9.88233186e+283]) inf]\n",
      " [array([4.85345037e+286, 7.14787931e+285]) inf]\n",
      " [array([-3.51049509e+288, -5.17005292e+287]) inf]\n",
      " [array([2.53913707e+290, 3.73949335e+289]) inf]\n",
      " [array([-1.83655494e+292, -2.70477125e+291]) inf]\n",
      " [array([1.32837808e+294, 1.95635795e+293]) inf]\n",
      " [array([-9.60814344e+295, -1.41503146e+295]) inf]\n",
      " [array([6.94955914e+297, 1.02349064e+297]) inf]\n",
      " [array([-5.02660816e+299, -7.40289604e+298]) inf]\n",
      " [array([3.63573992e+301, 5.35450622e+300]) inf]\n",
      " [array([-2.62972652e+303, -3.87290821e+302]) inf]\n",
      " [array([1.90207818e+305, 2.80127007e+304]) inf]\n",
      " [array([            -inf, -2.02615543e+306]) nan]\n",
      " [array([nan, nan]) nan]]\n"
     ]
    },
    {
     "name": "stderr",
     "output_type": "stream",
     "text": [
      "C:\\Users\\alezi\\anaconda3\\lib\\site-packages\\numpy\\core\\_methods.py:151: RuntimeWarning: overflow encountered in reduce\n",
      "  ret = umr_sum(arr, axis, dtype, out, keepdims)\n",
      "<ipython-input-7-f74969a376ac>:23: RuntimeWarning: overflow encountered in square\n",
      "  return np.square(self.r(params)).mean()\n",
      "<ipython-input-6-bf46ce3874ab>:5: RuntimeWarning: invalid value encountered in multiply\n",
      "  result += params[i] * column\n"
     ]
    }
   ],
   "source": [
    "regressor.fit(x_train, y_train, learning_rate=1, use_momentum=False)\n",
    "y_pred = regressor.predict(x_test)\n",
    "\n",
    "path = regressor.get_fit_path()\n",
    "\n",
    "print(path)"
   ]
  },
  {
   "cell_type": "markdown",
   "metadata": {},
   "source": [
    "Наташ, мы всё опрокинули... Совсем всё."
   ]
  },
  {
   "cell_type": "markdown",
   "metadata": {},
   "source": [
    "Значение функции ошибок взлетело до небес и привело к переполнению в ходе спуска, т.к. ограничение по области определения MSE я намеренно убрала из оптимизатора, а максимальное число итераций оставила достаточно большим.\n",
    "\n",
    "По моим соображениям это происходит, потому что при большом значении learning_rate мы делаем шаг слишком большой длинны. MSE в случае линейной регрессии будет фунцией степени 2. Тогда для понимания, проще всего представить себе двумерный случай, где она будет выглядеть, как параболоид. \n",
    "\n",
    "Очевидно, у неё будет один минимум, но при чрезмерно больших шагах мы будем прыгать с одной стенки параболоида на противоположную и не сможем спуститься вниз. Более того, делая такой большой шаг, мы рискуем попасть в точку с бОльшим значением MSE, как это получилось выше. Тогда значение антиградиента увеличится. В купе с большим значением learning rate следующий шаг снова увеличит значение функции и т.д."
   ]
  },
  {
   "cell_type": "code",
   "execution_count": null,
   "metadata": {},
   "outputs": [],
   "source": []
  }
 ],
 "metadata": {
  "kernelspec": {
   "display_name": "Python 3 (ipykernel)",
   "language": "python",
   "name": "python3"
  },
  "language_info": {
   "codemirror_mode": {
    "name": "ipython",
    "version": 3
   },
   "file_extension": ".py",
   "mimetype": "text/x-python",
   "name": "python",
   "nbconvert_exporter": "python",
   "pygments_lexer": "ipython3",
   "version": "3.9.12"
  }
 },
 "nbformat": 4,
 "nbformat_minor": 4
}
